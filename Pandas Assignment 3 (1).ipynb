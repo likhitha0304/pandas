{
 "cells": [
  {
   "cell_type": "code",
   "execution_count": 1,
   "id": "f01d18a8",
   "metadata": {},
   "outputs": [],
   "source": [
    "import pandas as pd\n",
    "import numpy as np"
   ]
  },
  {
   "cell_type": "code",
   "execution_count": 45,
   "id": "9e6d3336",
   "metadata": {},
   "outputs": [],
   "source": [
    "dt2 = pd.read_csv(r\"C:\\Users\\bandr\\Downloads\\all_grains_data.csv\")"
   ]
  },
  {
   "cell_type": "code",
   "execution_count": 46,
   "id": "71bb1f40",
   "metadata": {},
   "outputs": [
    {
     "data": {
      "text/html": [
       "<div>\n",
       "<style scoped>\n",
       "    .dataframe tbody tr th:only-of-type {\n",
       "        vertical-align: middle;\n",
       "    }\n",
       "\n",
       "    .dataframe tbody tr th {\n",
       "        vertical-align: top;\n",
       "    }\n",
       "\n",
       "    .dataframe thead th {\n",
       "        text-align: right;\n",
       "    }\n",
       "</style>\n",
       "<table border=\"1\" class=\"dataframe\">\n",
       "  <thead>\n",
       "    <tr style=\"text-align: right;\">\n",
       "      <th></th>\n",
       "      <th>ticker</th>\n",
       "      <th>commodity</th>\n",
       "      <th>date</th>\n",
       "      <th>open</th>\n",
       "      <th>high</th>\n",
       "      <th>low</th>\n",
       "      <th>close</th>\n",
       "      <th>volume</th>\n",
       "    </tr>\n",
       "  </thead>\n",
       "  <tbody>\n",
       "    <tr>\n",
       "      <th>0</th>\n",
       "      <td>ZC=F</td>\n",
       "      <td>Corn</td>\n",
       "      <td>2000-07-17</td>\n",
       "      <td>182.25</td>\n",
       "      <td>182.25</td>\n",
       "      <td>178.25</td>\n",
       "      <td>179.25</td>\n",
       "      <td>19385</td>\n",
       "    </tr>\n",
       "    <tr>\n",
       "      <th>1</th>\n",
       "      <td>ZC=F</td>\n",
       "      <td>Corn</td>\n",
       "      <td>2000-07-18</td>\n",
       "      <td>179.00</td>\n",
       "      <td>183.25</td>\n",
       "      <td>179.00</td>\n",
       "      <td>180.75</td>\n",
       "      <td>25205</td>\n",
       "    </tr>\n",
       "    <tr>\n",
       "      <th>2</th>\n",
       "      <td>ZC=F</td>\n",
       "      <td>Corn</td>\n",
       "      <td>2000-07-19</td>\n",
       "      <td>180.00</td>\n",
       "      <td>182.75</td>\n",
       "      <td>178.75</td>\n",
       "      <td>182.00</td>\n",
       "      <td>17126</td>\n",
       "    </tr>\n",
       "    <tr>\n",
       "      <th>3</th>\n",
       "      <td>ZC=F</td>\n",
       "      <td>Corn</td>\n",
       "      <td>2000-07-20</td>\n",
       "      <td>181.50</td>\n",
       "      <td>187.00</td>\n",
       "      <td>181.00</td>\n",
       "      <td>186.00</td>\n",
       "      <td>18742</td>\n",
       "    </tr>\n",
       "    <tr>\n",
       "      <th>4</th>\n",
       "      <td>ZC=F</td>\n",
       "      <td>Corn</td>\n",
       "      <td>2000-07-21</td>\n",
       "      <td>185.50</td>\n",
       "      <td>188.00</td>\n",
       "      <td>185.00</td>\n",
       "      <td>187.75</td>\n",
       "      <td>16814</td>\n",
       "    </tr>\n",
       "  </tbody>\n",
       "</table>\n",
       "</div>"
      ],
      "text/plain": [
       "  ticker commodity        date    open    high     low   close  volume\n",
       "0   ZC=F      Corn  2000-07-17  182.25  182.25  178.25  179.25   19385\n",
       "1   ZC=F      Corn  2000-07-18  179.00  183.25  179.00  180.75   25205\n",
       "2   ZC=F      Corn  2000-07-19  180.00  182.75  178.75  182.00   17126\n",
       "3   ZC=F      Corn  2000-07-20  181.50  187.00  181.00  186.00   18742\n",
       "4   ZC=F      Corn  2000-07-21  185.50  188.00  185.00  187.75   16814"
      ]
     },
     "execution_count": 46,
     "metadata": {},
     "output_type": "execute_result"
    }
   ],
   "source": [
    "dt2.head()"
   ]
  },
  {
   "cell_type": "code",
   "execution_count": 47,
   "id": "505cb7e3",
   "metadata": {},
   "outputs": [
    {
     "name": "stdout",
     "output_type": "stream",
     "text": [
      "<class 'pandas.core.frame.DataFrame'>\n",
      "RangeIndex: 34883 entries, 0 to 34882\n",
      "Data columns (total 8 columns):\n",
      " #   Column     Non-Null Count  Dtype  \n",
      "---  ------     --------------  -----  \n",
      " 0   ticker     34883 non-null  object \n",
      " 1   commodity  34883 non-null  object \n",
      " 2   date       34883 non-null  object \n",
      " 3   open       34883 non-null  float64\n",
      " 4   high       34883 non-null  float64\n",
      " 5   low        34883 non-null  float64\n",
      " 6   close      34883 non-null  float64\n",
      " 7   volume     34883 non-null  int64  \n",
      "dtypes: float64(4), int64(1), object(3)\n",
      "memory usage: 2.1+ MB\n"
     ]
    }
   ],
   "source": [
    "dt2.info()"
   ]
  },
  {
   "cell_type": "code",
   "execution_count": 48,
   "id": "17efeb17",
   "metadata": {},
   "outputs": [
    {
     "data": {
      "text/html": [
       "<div>\n",
       "<style scoped>\n",
       "    .dataframe tbody tr th:only-of-type {\n",
       "        vertical-align: middle;\n",
       "    }\n",
       "\n",
       "    .dataframe tbody tr th {\n",
       "        vertical-align: top;\n",
       "    }\n",
       "\n",
       "    .dataframe thead th {\n",
       "        text-align: right;\n",
       "    }\n",
       "</style>\n",
       "<table border=\"1\" class=\"dataframe\">\n",
       "  <thead>\n",
       "    <tr style=\"text-align: right;\">\n",
       "      <th></th>\n",
       "      <th>open</th>\n",
       "      <th>high</th>\n",
       "      <th>low</th>\n",
       "      <th>close</th>\n",
       "      <th>volume</th>\n",
       "    </tr>\n",
       "  </thead>\n",
       "  <tbody>\n",
       "    <tr>\n",
       "      <th>count</th>\n",
       "      <td>34883.000000</td>\n",
       "      <td>34883.000000</td>\n",
       "      <td>34883.000000</td>\n",
       "      <td>34883.000000</td>\n",
       "      <td>34883.000000</td>\n",
       "    </tr>\n",
       "    <tr>\n",
       "      <th>mean</th>\n",
       "      <td>573.890888</td>\n",
       "      <td>579.401570</td>\n",
       "      <td>568.530326</td>\n",
       "      <td>573.880280</td>\n",
       "      <td>27606.105008</td>\n",
       "    </tr>\n",
       "    <tr>\n",
       "      <th>std</th>\n",
       "      <td>458.921582</td>\n",
       "      <td>463.500174</td>\n",
       "      <td>454.580653</td>\n",
       "      <td>458.949972</td>\n",
       "      <td>52347.602634</td>\n",
       "    </tr>\n",
       "    <tr>\n",
       "      <th>min</th>\n",
       "      <td>14.400000</td>\n",
       "      <td>14.410000</td>\n",
       "      <td>14.380000</td>\n",
       "      <td>14.380000</td>\n",
       "      <td>0.000000</td>\n",
       "    </tr>\n",
       "    <tr>\n",
       "      <th>25%</th>\n",
       "      <td>224.500000</td>\n",
       "      <td>226.500000</td>\n",
       "      <td>222.250000</td>\n",
       "      <td>224.250000</td>\n",
       "      <td>78.000000</td>\n",
       "    </tr>\n",
       "    <tr>\n",
       "      <th>50%</th>\n",
       "      <td>435.500000</td>\n",
       "      <td>439.000000</td>\n",
       "      <td>431.750000</td>\n",
       "      <td>435.750000</td>\n",
       "      <td>867.000000</td>\n",
       "    </tr>\n",
       "    <tr>\n",
       "      <th>75%</th>\n",
       "      <td>878.000000</td>\n",
       "      <td>886.500000</td>\n",
       "      <td>869.750000</td>\n",
       "      <td>877.125000</td>\n",
       "      <td>28293.500000</td>\n",
       "    </tr>\n",
       "    <tr>\n",
       "      <th>max</th>\n",
       "      <td>2435.000000</td>\n",
       "      <td>2468.500000</td>\n",
       "      <td>2400.000000</td>\n",
       "      <td>2446.000000</td>\n",
       "      <td>523849.000000</td>\n",
       "    </tr>\n",
       "  </tbody>\n",
       "</table>\n",
       "</div>"
      ],
      "text/plain": [
       "               open          high           low         close         volume\n",
       "count  34883.000000  34883.000000  34883.000000  34883.000000   34883.000000\n",
       "mean     573.890888    579.401570    568.530326    573.880280   27606.105008\n",
       "std      458.921582    463.500174    454.580653    458.949972   52347.602634\n",
       "min       14.400000     14.410000     14.380000     14.380000       0.000000\n",
       "25%      224.500000    226.500000    222.250000    224.250000      78.000000\n",
       "50%      435.500000    439.000000    431.750000    435.750000     867.000000\n",
       "75%      878.000000    886.500000    869.750000    877.125000   28293.500000\n",
       "max     2435.000000   2468.500000   2400.000000   2446.000000  523849.000000"
      ]
     },
     "execution_count": 48,
     "metadata": {},
     "output_type": "execute_result"
    }
   ],
   "source": [
    "dt2.describe()"
   ]
  },
  {
   "cell_type": "code",
   "execution_count": 49,
   "id": "0bba7529",
   "metadata": {},
   "outputs": [],
   "source": [
    "# 1. Which commodity was having the highest opening price for the day?"
   ]
  },
  {
   "cell_type": "code",
   "execution_count": 50,
   "id": "60d7c449",
   "metadata": {},
   "outputs": [
    {
     "data": {
      "text/plain": [
       "2435.0"
      ]
     },
     "execution_count": 50,
     "metadata": {},
     "output_type": "execute_result"
    }
   ],
   "source": [
    "dt2['open'].max()"
   ]
  },
  {
   "cell_type": "code",
   "execution_count": 51,
   "id": "b79bc612",
   "metadata": {},
   "outputs": [
    {
     "data": {
      "text/html": [
       "<div>\n",
       "<style scoped>\n",
       "    .dataframe tbody tr th:only-of-type {\n",
       "        vertical-align: middle;\n",
       "    }\n",
       "\n",
       "    .dataframe tbody tr th {\n",
       "        vertical-align: top;\n",
       "    }\n",
       "\n",
       "    .dataframe thead th {\n",
       "        text-align: right;\n",
       "    }\n",
       "</style>\n",
       "<table border=\"1\" class=\"dataframe\">\n",
       "  <thead>\n",
       "    <tr style=\"text-align: right;\">\n",
       "      <th></th>\n",
       "      <th>ticker</th>\n",
       "      <th>commodity</th>\n",
       "      <th>date</th>\n",
       "      <th>open</th>\n",
       "      <th>high</th>\n",
       "      <th>low</th>\n",
       "      <th>close</th>\n",
       "      <th>volume</th>\n",
       "    </tr>\n",
       "  </thead>\n",
       "  <tbody>\n",
       "    <tr>\n",
       "      <th>19437</th>\n",
       "      <td>ZR=F</td>\n",
       "      <td>Rough Rice</td>\n",
       "      <td>2008-04-24</td>\n",
       "      <td>2435.0</td>\n",
       "      <td>2468.5</td>\n",
       "      <td>2396.0</td>\n",
       "      <td>2396.0</td>\n",
       "      <td>1218</td>\n",
       "    </tr>\n",
       "  </tbody>\n",
       "</table>\n",
       "</div>"
      ],
      "text/plain": [
       "      ticker   commodity        date    open    high     low   close  volume\n",
       "19437   ZR=F  Rough Rice  2008-04-24  2435.0  2468.5  2396.0  2396.0    1218"
      ]
     },
     "execution_count": 51,
     "metadata": {},
     "output_type": "execute_result"
    }
   ],
   "source": [
    "dt2.loc[dt2['open']==2435]"
   ]
  },
  {
   "cell_type": "code",
   "execution_count": 52,
   "id": "0977d3f4",
   "metadata": {},
   "outputs": [],
   "source": [
    "# Ans: Rough rice is having highest opening price for the day."
   ]
  },
  {
   "cell_type": "code",
   "execution_count": null,
   "id": "05a5e2d8",
   "metadata": {},
   "outputs": [],
   "source": []
  },
  {
   "cell_type": "code",
   "execution_count": 53,
   "id": "e78f5dcc",
   "metadata": {},
   "outputs": [],
   "source": [
    "# 2.Which commodity price reached  maximum during the trading session?"
   ]
  },
  {
   "cell_type": "code",
   "execution_count": 54,
   "id": "48e7f445",
   "metadata": {},
   "outputs": [
    {
     "data": {
      "text/plain": [
       "2468.5"
      ]
     },
     "execution_count": 54,
     "metadata": {},
     "output_type": "execute_result"
    }
   ],
   "source": [
    "dt2['high'].max()"
   ]
  },
  {
   "cell_type": "code",
   "execution_count": 55,
   "id": "6f4f262b",
   "metadata": {},
   "outputs": [
    {
     "data": {
      "text/html": [
       "<div>\n",
       "<style scoped>\n",
       "    .dataframe tbody tr th:only-of-type {\n",
       "        vertical-align: middle;\n",
       "    }\n",
       "\n",
       "    .dataframe tbody tr th {\n",
       "        vertical-align: top;\n",
       "    }\n",
       "\n",
       "    .dataframe thead th {\n",
       "        text-align: right;\n",
       "    }\n",
       "</style>\n",
       "<table border=\"1\" class=\"dataframe\">\n",
       "  <thead>\n",
       "    <tr style=\"text-align: right;\">\n",
       "      <th></th>\n",
       "      <th>ticker</th>\n",
       "      <th>commodity</th>\n",
       "      <th>date</th>\n",
       "      <th>open</th>\n",
       "      <th>high</th>\n",
       "      <th>low</th>\n",
       "      <th>close</th>\n",
       "      <th>volume</th>\n",
       "    </tr>\n",
       "  </thead>\n",
       "  <tbody>\n",
       "    <tr>\n",
       "      <th>19437</th>\n",
       "      <td>ZR=F</td>\n",
       "      <td>Rough Rice</td>\n",
       "      <td>2008-04-24</td>\n",
       "      <td>2435.0</td>\n",
       "      <td>2468.5</td>\n",
       "      <td>2396.0</td>\n",
       "      <td>2396.0</td>\n",
       "      <td>1218</td>\n",
       "    </tr>\n",
       "  </tbody>\n",
       "</table>\n",
       "</div>"
      ],
      "text/plain": [
       "      ticker   commodity        date    open    high     low   close  volume\n",
       "19437   ZR=F  Rough Rice  2008-04-24  2435.0  2468.5  2396.0  2396.0    1218"
      ]
     },
     "execution_count": 55,
     "metadata": {},
     "output_type": "execute_result"
    }
   ],
   "source": [
    "dt2.loc[dt2['high']==2468.5]"
   ]
  },
  {
   "cell_type": "code",
   "execution_count": 56,
   "id": "735d6dd7",
   "metadata": {},
   "outputs": [],
   "source": [
    "# Ans: Rough rice commodity reached maximum during trading session."
   ]
  },
  {
   "cell_type": "code",
   "execution_count": null,
   "id": "17e58ad1",
   "metadata": {},
   "outputs": [],
   "source": []
  },
  {
   "cell_type": "code",
   "execution_count": 57,
   "id": "e0492209",
   "metadata": {},
   "outputs": [],
   "source": [
    "#3. What is the average Market's opening price for the Oat in 2010?"
   ]
  },
  {
   "cell_type": "code",
   "execution_count": 58,
   "id": "ae5c619a",
   "metadata": {},
   "outputs": [],
   "source": [
    "y = ((dt2['date'].str.contains('2010'))&(dt2['commodity']=='Oat'))"
   ]
  },
  {
   "cell_type": "code",
   "execution_count": 59,
   "id": "313dba47",
   "metadata": {},
   "outputs": [
    {
     "data": {
      "text/plain": [
       "279.51190476190476"
      ]
     },
     "execution_count": 59,
     "metadata": {},
     "output_type": "execute_result"
    }
   ],
   "source": [
    "dt2.loc[y]['high'].mean()"
   ]
  },
  {
   "cell_type": "code",
   "execution_count": 21,
   "id": "4d37ae67",
   "metadata": {},
   "outputs": [],
   "source": [
    "# Ans: 279.5 is the average market's opening price for the oat in year 2010."
   ]
  },
  {
   "cell_type": "code",
   "execution_count": null,
   "id": "81b3763d",
   "metadata": {},
   "outputs": [],
   "source": []
  },
  {
   "cell_type": "code",
   "execution_count": 22,
   "id": "0a91f1dd",
   "metadata": {},
   "outputs": [],
   "source": [
    "# 4.What is the maximum and minimum Number of contracts traded during the 2009?"
   ]
  },
  {
   "cell_type": "code",
   "execution_count": 60,
   "id": "b2b6a66e",
   "metadata": {},
   "outputs": [],
   "source": [
    "start_date = pd.to_datetime('2009-01-01')"
   ]
  },
  {
   "cell_type": "code",
   "execution_count": 61,
   "id": "a0aa2516",
   "metadata": {},
   "outputs": [],
   "source": [
    "end_date = pd.to_datetime('2009-12-31')"
   ]
  },
  {
   "cell_type": "code",
   "execution_count": 62,
   "id": "a11351b8",
   "metadata": {},
   "outputs": [],
   "source": [
    "dt2['date']=pd.to_datetime(dt2['date'])"
   ]
  },
  {
   "cell_type": "code",
   "execution_count": 63,
   "id": "1d723414",
   "metadata": {},
   "outputs": [],
   "source": [
    "x1 = dt2.loc[(dt2['date']>=start_date)&(dt2['date']<=end_date)]"
   ]
  },
  {
   "cell_type": "code",
   "execution_count": 64,
   "id": "8786d05a",
   "metadata": {},
   "outputs": [],
   "source": [
    "x2 = x1.sort_values(by='volume',ascending=True)"
   ]
  },
  {
   "cell_type": "code",
   "execution_count": 65,
   "id": "4670e6bf",
   "metadata": {},
   "outputs": [
    {
     "data": {
      "text/html": [
       "<div>\n",
       "<style scoped>\n",
       "    .dataframe tbody tr th:only-of-type {\n",
       "        vertical-align: middle;\n",
       "    }\n",
       "\n",
       "    .dataframe tbody tr th {\n",
       "        vertical-align: top;\n",
       "    }\n",
       "\n",
       "    .dataframe thead th {\n",
       "        text-align: right;\n",
       "    }\n",
       "</style>\n",
       "<table border=\"1\" class=\"dataframe\">\n",
       "  <thead>\n",
       "    <tr style=\"text-align: right;\">\n",
       "      <th></th>\n",
       "      <th>ticker</th>\n",
       "      <th>commodity</th>\n",
       "      <th>date</th>\n",
       "      <th>open</th>\n",
       "      <th>high</th>\n",
       "      <th>low</th>\n",
       "      <th>close</th>\n",
       "      <th>volume</th>\n",
       "    </tr>\n",
       "  </thead>\n",
       "  <tbody>\n",
       "    <tr>\n",
       "      <th>13896</th>\n",
       "      <td>KE=F</td>\n",
       "      <td>KC HRW Wheat</td>\n",
       "      <td>2009-12-22</td>\n",
       "      <td>516.00</td>\n",
       "      <td>519.25</td>\n",
       "      <td>510.25</td>\n",
       "      <td>517.25</td>\n",
       "      <td>0</td>\n",
       "    </tr>\n",
       "    <tr>\n",
       "      <th>13739</th>\n",
       "      <td>KE=F</td>\n",
       "      <td>KC HRW Wheat</td>\n",
       "      <td>2009-05-11</td>\n",
       "      <td>629.50</td>\n",
       "      <td>629.50</td>\n",
       "      <td>629.50</td>\n",
       "      <td>629.50</td>\n",
       "      <td>0</td>\n",
       "    </tr>\n",
       "    <tr>\n",
       "      <th>13738</th>\n",
       "      <td>KE=F</td>\n",
       "      <td>KC HRW Wheat</td>\n",
       "      <td>2009-05-08</td>\n",
       "      <td>627.00</td>\n",
       "      <td>627.00</td>\n",
       "      <td>627.00</td>\n",
       "      <td>627.00</td>\n",
       "      <td>0</td>\n",
       "    </tr>\n",
       "    <tr>\n",
       "      <th>13737</th>\n",
       "      <td>KE=F</td>\n",
       "      <td>KC HRW Wheat</td>\n",
       "      <td>2009-05-07</td>\n",
       "      <td>608.75</td>\n",
       "      <td>608.75</td>\n",
       "      <td>608.75</td>\n",
       "      <td>608.75</td>\n",
       "      <td>0</td>\n",
       "    </tr>\n",
       "    <tr>\n",
       "      <th>13736</th>\n",
       "      <td>KE=F</td>\n",
       "      <td>KC HRW Wheat</td>\n",
       "      <td>2009-05-06</td>\n",
       "      <td>593.00</td>\n",
       "      <td>595.00</td>\n",
       "      <td>591.25</td>\n",
       "      <td>601.00</td>\n",
       "      <td>0</td>\n",
       "    </tr>\n",
       "    <tr>\n",
       "      <th>...</th>\n",
       "      <td>...</td>\n",
       "      <td>...</td>\n",
       "      <td>...</td>\n",
       "      <td>...</td>\n",
       "      <td>...</td>\n",
       "      <td>...</td>\n",
       "      <td>...</td>\n",
       "      <td>...</td>\n",
       "    </tr>\n",
       "    <tr>\n",
       "      <th>2315</th>\n",
       "      <td>ZC=F</td>\n",
       "      <td>Corn</td>\n",
       "      <td>2009-11-12</td>\n",
       "      <td>392.00</td>\n",
       "      <td>398.25</td>\n",
       "      <td>382.50</td>\n",
       "      <td>390.50</td>\n",
       "      <td>186124</td>\n",
       "    </tr>\n",
       "    <tr>\n",
       "      <th>2313</th>\n",
       "      <td>ZC=F</td>\n",
       "      <td>Corn</td>\n",
       "      <td>2009-11-10</td>\n",
       "      <td>384.00</td>\n",
       "      <td>397.00</td>\n",
       "      <td>379.25</td>\n",
       "      <td>394.50</td>\n",
       "      <td>202202</td>\n",
       "    </tr>\n",
       "    <tr>\n",
       "      <th>2288</th>\n",
       "      <td>ZC=F</td>\n",
       "      <td>Corn</td>\n",
       "      <td>2009-10-06</td>\n",
       "      <td>342.00</td>\n",
       "      <td>370.00</td>\n",
       "      <td>342.00</td>\n",
       "      <td>358.25</td>\n",
       "      <td>213787</td>\n",
       "    </tr>\n",
       "    <tr>\n",
       "      <th>2314</th>\n",
       "      <td>ZC=F</td>\n",
       "      <td>Corn</td>\n",
       "      <td>2009-11-11</td>\n",
       "      <td>393.25</td>\n",
       "      <td>403.00</td>\n",
       "      <td>391.50</td>\n",
       "      <td>394.00</td>\n",
       "      <td>246000</td>\n",
       "    </tr>\n",
       "    <tr>\n",
       "      <th>2273</th>\n",
       "      <td>ZC=F</td>\n",
       "      <td>Corn</td>\n",
       "      <td>2009-09-15</td>\n",
       "      <td>317.00</td>\n",
       "      <td>347.75</td>\n",
       "      <td>316.00</td>\n",
       "      <td>346.50</td>\n",
       "      <td>252221</td>\n",
       "    </tr>\n",
       "  </tbody>\n",
       "</table>\n",
       "<p>1500 rows × 8 columns</p>\n",
       "</div>"
      ],
      "text/plain": [
       "      ticker     commodity       date    open    high     low   close  volume\n",
       "13896   KE=F  KC HRW Wheat 2009-12-22  516.00  519.25  510.25  517.25       0\n",
       "13739   KE=F  KC HRW Wheat 2009-05-11  629.50  629.50  629.50  629.50       0\n",
       "13738   KE=F  KC HRW Wheat 2009-05-08  627.00  627.00  627.00  627.00       0\n",
       "13737   KE=F  KC HRW Wheat 2009-05-07  608.75  608.75  608.75  608.75       0\n",
       "13736   KE=F  KC HRW Wheat 2009-05-06  593.00  595.00  591.25  601.00       0\n",
       "...      ...           ...        ...     ...     ...     ...     ...     ...\n",
       "2315    ZC=F          Corn 2009-11-12  392.00  398.25  382.50  390.50  186124\n",
       "2313    ZC=F          Corn 2009-11-10  384.00  397.00  379.25  394.50  202202\n",
       "2288    ZC=F          Corn 2009-10-06  342.00  370.00  342.00  358.25  213787\n",
       "2314    ZC=F          Corn 2009-11-11  393.25  403.00  391.50  394.00  246000\n",
       "2273    ZC=F          Corn 2009-09-15  317.00  347.75  316.00  346.50  252221\n",
       "\n",
       "[1500 rows x 8 columns]"
      ]
     },
     "execution_count": 65,
     "metadata": {},
     "output_type": "execute_result"
    }
   ],
   "source": [
    "x2"
   ]
  },
  {
   "cell_type": "code",
   "execution_count": 34,
   "id": "12104080",
   "metadata": {},
   "outputs": [],
   "source": [
    "# Ams: 252221 is the highest no.of contracts traded during 2009.\n",
    "#      0 is the lowest no.0f conracts traded during 2009."
   ]
  },
  {
   "cell_type": "code",
   "execution_count": null,
   "id": "0eb9bf82",
   "metadata": {},
   "outputs": [],
   "source": []
  },
  {
   "cell_type": "code",
   "execution_count": 37,
   "id": "0201e282",
   "metadata": {},
   "outputs": [],
   "source": [
    "# 6.Which commodity have the average lowest opening price around 2001 to 2005?"
   ]
  },
  {
   "cell_type": "code",
   "execution_count": 66,
   "id": "d1afde26",
   "metadata": {},
   "outputs": [],
   "source": [
    "dt3 = (dt2['date']>='2001-01-01')&(dt2['date']<='2005-12-31')"
   ]
  },
  {
   "cell_type": "code",
   "execution_count": 67,
   "id": "dee460e3",
   "metadata": {},
   "outputs": [],
   "source": [
    "dt4 = dt2.loc[dt3]"
   ]
  },
  {
   "cell_type": "code",
   "execution_count": 69,
   "id": "38db446d",
   "metadata": {},
   "outputs": [],
   "source": [
    "dt5 = dt4.groupby('commodity')"
   ]
  },
  {
   "cell_type": "code",
   "execution_count": 70,
   "id": "32d96074",
   "metadata": {},
   "outputs": [
    {
     "data": {
      "text/plain": [
       "commodity\n",
       "Corn            226.167136\n",
       "KC HRW Wheat    343.651033\n",
       "Oat             159.646309\n",
       "Rough Rice      616.746411\n",
       "Soybean         594.099841\n",
       "Soybean Oil      21.416110\n",
       "Name: open, dtype: float64"
      ]
     },
     "execution_count": 70,
     "metadata": {},
     "output_type": "execute_result"
    }
   ],
   "source": [
    "dt5['open'].mean()"
   ]
  },
  {
   "cell_type": "code",
   "execution_count": 71,
   "id": "520f5acc",
   "metadata": {},
   "outputs": [],
   "source": [
    "# Ans : Soyabeen oil have the aaverage lowest opening price with 21.41 in the year between 2001 to 2005 "
   ]
  },
  {
   "cell_type": "code",
   "execution_count": null,
   "id": "d84c854f",
   "metadata": {},
   "outputs": [],
   "source": []
  },
  {
   "cell_type": "code",
   "execution_count": 72,
   "id": "f410a875",
   "metadata": {},
   "outputs": [],
   "source": [
    "#7. Which commodity have the best average  Market's closing price?"
   ]
  },
  {
   "cell_type": "code",
   "execution_count": 73,
   "id": "f7a3b7c1",
   "metadata": {},
   "outputs": [],
   "source": [
    "c = dt2.groupby('commodity')"
   ]
  },
  {
   "cell_type": "code",
   "execution_count": 74,
   "id": "67bd58dd",
   "metadata": {},
   "outputs": [
    {
     "data": {
      "text/plain": [
       "commodity\n",
       "Corn             409.404772\n",
       "KC HRW Wheat     563.693282\n",
       "Oat              278.657674\n",
       "Rough Rice      1143.607925\n",
       "Soybean          998.015728\n",
       "Soybean Oil       36.820361\n",
       "Name: close, dtype: float64"
      ]
     },
     "execution_count": 74,
     "metadata": {},
     "output_type": "execute_result"
    }
   ],
   "source": [
    "c['close'].mean()"
   ]
  },
  {
   "cell_type": "code",
   "execution_count": 75,
   "id": "ca50954a",
   "metadata": {},
   "outputs": [],
   "source": [
    "# Ans: Rough rice have best average market's closing price with 1143.6"
   ]
  },
  {
   "cell_type": "code",
   "execution_count": null,
   "id": "f9d4cab1",
   "metadata": {},
   "outputs": [],
   "source": []
  },
  {
   "cell_type": "code",
   "execution_count": 76,
   "id": "9ef05f3b",
   "metadata": {},
   "outputs": [],
   "source": [
    "#8.Which year corn have the highest and lowest Number of contracts traded?"
   ]
  },
  {
   "cell_type": "code",
   "execution_count": 77,
   "id": "084c2519",
   "metadata": {},
   "outputs": [
    {
     "data": {
      "text/plain": [
       "523849"
      ]
     },
     "execution_count": 77,
     "metadata": {},
     "output_type": "execute_result"
    }
   ],
   "source": [
    "c['volume'].max().loc['Corn']"
   ]
  },
  {
   "cell_type": "code",
   "execution_count": 78,
   "id": "510cf3f7",
   "metadata": {},
   "outputs": [
    {
     "data": {
      "text/html": [
       "<div>\n",
       "<style scoped>\n",
       "    .dataframe tbody tr th:only-of-type {\n",
       "        vertical-align: middle;\n",
       "    }\n",
       "\n",
       "    .dataframe tbody tr th {\n",
       "        vertical-align: top;\n",
       "    }\n",
       "\n",
       "    .dataframe thead th {\n",
       "        text-align: right;\n",
       "    }\n",
       "</style>\n",
       "<table border=\"1\" class=\"dataframe\">\n",
       "  <thead>\n",
       "    <tr style=\"text-align: right;\">\n",
       "      <th></th>\n",
       "      <th>ticker</th>\n",
       "      <th>commodity</th>\n",
       "      <th>date</th>\n",
       "      <th>open</th>\n",
       "      <th>high</th>\n",
       "      <th>low</th>\n",
       "      <th>close</th>\n",
       "      <th>volume</th>\n",
       "    </tr>\n",
       "  </thead>\n",
       "  <tbody>\n",
       "    <tr>\n",
       "      <th>4216</th>\n",
       "      <td>ZC=F</td>\n",
       "      <td>Corn</td>\n",
       "      <td>2017-06-07</td>\n",
       "      <td>378.25</td>\n",
       "      <td>387.0</td>\n",
       "      <td>378.25</td>\n",
       "      <td>384.75</td>\n",
       "      <td>523849</td>\n",
       "    </tr>\n",
       "  </tbody>\n",
       "</table>\n",
       "</div>"
      ],
      "text/plain": [
       "     ticker commodity       date    open   high     low   close  volume\n",
       "4216   ZC=F      Corn 2017-06-07  378.25  387.0  378.25  384.75  523849"
      ]
     },
     "execution_count": 78,
     "metadata": {},
     "output_type": "execute_result"
    }
   ],
   "source": [
    "dt2.loc[dt2['volume']==523849]"
   ]
  },
  {
   "cell_type": "code",
   "execution_count": 80,
   "id": "a8af5f34",
   "metadata": {},
   "outputs": [],
   "source": [
    "z = (dt2['commodity']=='Corn')&(dt2['volume']==0)"
   ]
  },
  {
   "cell_type": "code",
   "execution_count": 82,
   "id": "3b6f3751",
   "metadata": {},
   "outputs": [
    {
     "data": {
      "text/plain": [
       "821    2003-12-11\n",
       "1328   2005-12-13\n",
       "4486   2018-07-03\n",
       "4528   2018-08-31\n",
       "5682   2023-04-06\n",
       "Name: date, dtype: datetime64[ns]"
      ]
     },
     "execution_count": 82,
     "metadata": {},
     "output_type": "execute_result"
    }
   ],
   "source": [
    "dt2.loc[z]['date']"
   ]
  },
  {
   "cell_type": "code",
   "execution_count": null,
   "id": "93d48e70",
   "metadata": {},
   "outputs": [],
   "source": [
    "# Ans: 2017-06-07 on this date corn has highest no.of contracts traded.\n",
    "#      2003-12-13, 2005-12-13, 2018-07-03, 2018-08-31, 2023-04-06 on this dates corn has lowest no.of trading done."
   ]
  }
 ],
 "metadata": {
  "kernelspec": {
   "display_name": "Python 3 (ipykernel)",
   "language": "python",
   "name": "python3"
  },
  "language_info": {
   "codemirror_mode": {
    "name": "ipython",
    "version": 3
   },
   "file_extension": ".py",
   "mimetype": "text/x-python",
   "name": "python",
   "nbconvert_exporter": "python",
   "pygments_lexer": "ipython3",
   "version": "3.11.3"
  }
 },
 "nbformat": 4,
 "nbformat_minor": 5
}
