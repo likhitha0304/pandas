{
 "cells": [
  {
   "cell_type": "code",
   "execution_count": 2,
   "id": "22edb444",
   "metadata": {},
   "outputs": [],
   "source": [
    "import numpy as np\n",
    "import pandas as pd"
   ]
  },
  {
   "cell_type": "code",
   "execution_count": 3,
   "id": "31e11683",
   "metadata": {},
   "outputs": [],
   "source": [
    "dt1 = pd.read_csv(r\"C:\\Users\\bandr\\Downloads\\imdb_anime.csv\")"
   ]
  },
  {
   "cell_type": "code",
   "execution_count": 4,
   "id": "df67dcde",
   "metadata": {},
   "outputs": [
    {
     "data": {
      "text/html": [
       "<div>\n",
       "<style scoped>\n",
       "    .dataframe tbody tr th:only-of-type {\n",
       "        vertical-align: middle;\n",
       "    }\n",
       "\n",
       "    .dataframe tbody tr th {\n",
       "        vertical-align: top;\n",
       "    }\n",
       "\n",
       "    .dataframe thead th {\n",
       "        text-align: right;\n",
       "    }\n",
       "</style>\n",
       "<table border=\"1\" class=\"dataframe\">\n",
       "  <thead>\n",
       "    <tr style=\"text-align: right;\">\n",
       "      <th></th>\n",
       "      <th>Title</th>\n",
       "      <th>Genre</th>\n",
       "      <th>User Rating</th>\n",
       "      <th>Number of Votes</th>\n",
       "      <th>Runtime</th>\n",
       "      <th>Year</th>\n",
       "      <th>Summary</th>\n",
       "      <th>Stars</th>\n",
       "      <th>Certificate</th>\n",
       "      <th>Metascore</th>\n",
       "      <th>Gross</th>\n",
       "      <th>Episode</th>\n",
       "      <th>Episode Title</th>\n",
       "    </tr>\n",
       "  </thead>\n",
       "  <tbody>\n",
       "    <tr>\n",
       "      <th>0</th>\n",
       "      <td>One Piece</td>\n",
       "      <td>Animation, Action, Adventure</td>\n",
       "      <td>8.9</td>\n",
       "      <td>187,689</td>\n",
       "      <td>24 min</td>\n",
       "      <td>(1999– )</td>\n",
       "      <td>Follows the adventures of Monkey D. Luffy and ...</td>\n",
       "      <td>Mayumi Tanaka,Laurent Vernin,Akemi Okamura,Ton...</td>\n",
       "      <td>TV-14</td>\n",
       "      <td>NaN</td>\n",
       "      <td>187689</td>\n",
       "      <td>0</td>\n",
       "      <td>NaN</td>\n",
       "    </tr>\n",
       "    <tr>\n",
       "      <th>1</th>\n",
       "      <td>Teenage Mutant Ninja Turtles: Mutant Mayhem</td>\n",
       "      <td>Animation, Action, Adventure</td>\n",
       "      <td>7.4</td>\n",
       "      <td>28,895</td>\n",
       "      <td>99 min</td>\n",
       "      <td>(2023)</td>\n",
       "      <td>The film follows the Turtle brothers as they w...</td>\n",
       "      <td>NaN</td>\n",
       "      <td>PG</td>\n",
       "      <td>74</td>\n",
       "      <td>28895</td>\n",
       "      <td>0</td>\n",
       "      <td>NaN</td>\n",
       "    </tr>\n",
       "    <tr>\n",
       "      <th>2</th>\n",
       "      <td>The Super Mario Bros. Movie</td>\n",
       "      <td>Animation, Adventure, Comedy</td>\n",
       "      <td>7.1</td>\n",
       "      <td>189,108</td>\n",
       "      <td>92 min</td>\n",
       "      <td>(2023)</td>\n",
       "      <td>A plumber named Mario travels through an under...</td>\n",
       "      <td>NaN</td>\n",
       "      <td>PG</td>\n",
       "      <td>46</td>\n",
       "      <td>189108</td>\n",
       "      <td>0</td>\n",
       "      <td>NaN</td>\n",
       "    </tr>\n",
       "    <tr>\n",
       "      <th>3</th>\n",
       "      <td>Attack on Titan</td>\n",
       "      <td>Animation, Action, Adventure</td>\n",
       "      <td>9.1</td>\n",
       "      <td>434,457</td>\n",
       "      <td>24 min</td>\n",
       "      <td>(2013–2023)</td>\n",
       "      <td>After his hometown is destroyed and his mother...</td>\n",
       "      <td>Josh Grelle,Bryce Papenbrook,Yûki Kaji,Yui Ish...</td>\n",
       "      <td>TV-MA</td>\n",
       "      <td>NaN</td>\n",
       "      <td>434457</td>\n",
       "      <td>0</td>\n",
       "      <td>NaN</td>\n",
       "    </tr>\n",
       "    <tr>\n",
       "      <th>4</th>\n",
       "      <td>Jujutsu Kaisen</td>\n",
       "      <td>Animation, Action, Adventure</td>\n",
       "      <td>8.5</td>\n",
       "      <td>82,909</td>\n",
       "      <td>24 min</td>\n",
       "      <td>(2020– )</td>\n",
       "      <td>A boy swallows a cursed talisman - the finger ...</td>\n",
       "      <td>Junya Enoki,Yûichi Nakamura,Adam McArthur,Yuma...</td>\n",
       "      <td>TV-MA</td>\n",
       "      <td>NaN</td>\n",
       "      <td>82909</td>\n",
       "      <td>0</td>\n",
       "      <td>NaN</td>\n",
       "    </tr>\n",
       "  </tbody>\n",
       "</table>\n",
       "</div>"
      ],
      "text/plain": [
       "                                         Title                         Genre  \\\n",
       "0                                    One Piece  Animation, Action, Adventure   \n",
       "1  Teenage Mutant Ninja Turtles: Mutant Mayhem  Animation, Action, Adventure   \n",
       "2                  The Super Mario Bros. Movie  Animation, Adventure, Comedy   \n",
       "3                              Attack on Titan  Animation, Action, Adventure   \n",
       "4                               Jujutsu Kaisen  Animation, Action, Adventure   \n",
       "\n",
       "  User Rating Number of Votes Runtime         Year  \\\n",
       "0         8.9         187,689  24 min     (1999– )   \n",
       "1         7.4          28,895  99 min       (2023)   \n",
       "2         7.1         189,108  92 min       (2023)   \n",
       "3         9.1         434,457  24 min  (2013–2023)   \n",
       "4         8.5          82,909  24 min     (2020– )   \n",
       "\n",
       "                                             Summary  \\\n",
       "0  Follows the adventures of Monkey D. Luffy and ...   \n",
       "1  The film follows the Turtle brothers as they w...   \n",
       "2  A plumber named Mario travels through an under...   \n",
       "3  After his hometown is destroyed and his mother...   \n",
       "4  A boy swallows a cursed talisman - the finger ...   \n",
       "\n",
       "                                               Stars Certificate   Metascore  \\\n",
       "0  Mayumi Tanaka,Laurent Vernin,Akemi Okamura,Ton...       TV-14         NaN   \n",
       "1                                                NaN          PG  74           \n",
       "2                                                NaN          PG  46           \n",
       "3  Josh Grelle,Bryce Papenbrook,Yûki Kaji,Yui Ish...       TV-MA         NaN   \n",
       "4  Junya Enoki,Yûichi Nakamura,Adam McArthur,Yuma...       TV-MA         NaN   \n",
       "\n",
       "    Gross Episode Episode Title  \n",
       "0  187689       0           NaN  \n",
       "1   28895       0           NaN  \n",
       "2  189108       0           NaN  \n",
       "3  434457       0           NaN  \n",
       "4   82909       0           NaN  "
      ]
     },
     "execution_count": 4,
     "metadata": {},
     "output_type": "execute_result"
    }
   ],
   "source": [
    "dt1.head()"
   ]
  },
  {
   "cell_type": "code",
   "execution_count": 6,
   "id": "ecb7fe32",
   "metadata": {},
   "outputs": [],
   "source": [
    "dt1=dt1.drop_duplicates()"
   ]
  },
  {
   "cell_type": "code",
   "execution_count": 14,
   "id": "e925ea93",
   "metadata": {},
   "outputs": [],
   "source": [
    "dt1.fillna(0,inplace=True)"
   ]
  },
  {
   "cell_type": "code",
   "execution_count": 8,
   "id": "98e5ca3a",
   "metadata": {},
   "outputs": [],
   "source": [
    "dt1['Runtime']=dt1['Runtime'].str.replace(',','')"
   ]
  },
  {
   "cell_type": "code",
   "execution_count": 9,
   "id": "931d133e",
   "metadata": {},
   "outputs": [],
   "source": [
    "dt1['Runtime']=dt1['Runtime'].str.replace('min','')"
   ]
  },
  {
   "cell_type": "code",
   "execution_count": 10,
   "id": "0485b9d1",
   "metadata": {},
   "outputs": [],
   "source": [
    "dt1['Number of Votes']=dt1['Number of Votes'].str.replace(',','')"
   ]
  },
  {
   "cell_type": "code",
   "execution_count": 11,
   "id": "04832dde",
   "metadata": {},
   "outputs": [],
   "source": [
    "dt1['User Rating'].replace({'inf':0},inplace=True)"
   ]
  },
  {
   "cell_type": "code",
   "execution_count": 12,
   "id": "d39c191b",
   "metadata": {},
   "outputs": [],
   "source": [
    "dt1 = dt1.replace({'User Rating':{'User Rating':0},'Runtime':{'Runtime':0},'Gross':{'Gross':0},'Number of Votes':{'Number of Votes':0},'Metascore':{'Metascore':0},'Episode':{'Episode':0}})"
   ]
  },
  {
   "cell_type": "code",
   "execution_count": 15,
   "id": "e255a30d",
   "metadata": {},
   "outputs": [],
   "source": [
    "dt1 = dt1.astype({'User Rating':np.float16,'Number of Votes':np.int32,'Gross':np.int32,'Metascore':np.float16,'Episode':np.int32,'Runtime':np.int32})"
   ]
  },
  {
   "cell_type": "code",
   "execution_count": 16,
   "id": "2771ac1a",
   "metadata": {
    "scrolled": true
   },
   "outputs": [
    {
     "name": "stdout",
     "output_type": "stream",
     "text": [
      "<class 'pandas.core.frame.DataFrame'>\n",
      "Int64Index: 44843 entries, 0 to 45716\n",
      "Data columns (total 13 columns):\n",
      " #   Column           Non-Null Count  Dtype  \n",
      "---  ------           --------------  -----  \n",
      " 0   Title            44843 non-null  object \n",
      " 1   Genre            44843 non-null  object \n",
      " 2   User Rating      44843 non-null  float16\n",
      " 3   Number of Votes  44843 non-null  int32  \n",
      " 4   Runtime          44843 non-null  int32  \n",
      " 5   Year             44843 non-null  object \n",
      " 6   Summary          44843 non-null  object \n",
      " 7   Stars            44843 non-null  object \n",
      " 8   Certificate      44843 non-null  object \n",
      " 9   Metascore        44843 non-null  float16\n",
      " 10  Gross            44843 non-null  int32  \n",
      " 11  Episode          44843 non-null  int32  \n",
      " 12  Episode Title    44843 non-null  object \n",
      "dtypes: float16(2), int32(4), object(7)\n",
      "memory usage: 3.6+ MB\n"
     ]
    }
   ],
   "source": [
    "dt1.info()"
   ]
  },
  {
   "cell_type": "code",
   "execution_count": 17,
   "id": "714cf1e9",
   "metadata": {},
   "outputs": [],
   "source": [
    "dt1['Number of Votes']= dt1['Number of Votes'].replace(np.inf,0)"
   ]
  },
  {
   "cell_type": "code",
   "execution_count": 15,
   "id": "cbbf30dd",
   "metadata": {},
   "outputs": [],
   "source": [
    "# 1. How many unique anime are there?"
   ]
  },
  {
   "cell_type": "code",
   "execution_count": 18,
   "id": "72e0210d",
   "metadata": {},
   "outputs": [
    {
     "data": {
      "text/plain": [
       "9851"
      ]
     },
     "execution_count": 18,
     "metadata": {},
     "output_type": "execute_result"
    }
   ],
   "source": [
    "len(dt1['Title'].unique())"
   ]
  },
  {
   "cell_type": "code",
   "execution_count": 17,
   "id": "d8457891",
   "metadata": {},
   "outputs": [],
   "source": [
    "# Ans: 9851 unique animes are there in this data set"
   ]
  },
  {
   "cell_type": "code",
   "execution_count": null,
   "id": "faf93d1d",
   "metadata": {},
   "outputs": [],
   "source": []
  },
  {
   "cell_type": "code",
   "execution_count": 18,
   "id": "5deeb2d8",
   "metadata": {},
   "outputs": [],
   "source": [
    "# 2. Which anime has the highest rating?"
   ]
  },
  {
   "cell_type": "code",
   "execution_count": 19,
   "id": "a08faecd",
   "metadata": {},
   "outputs": [
    {
     "data": {
      "text/plain": [
       "9.9"
      ]
     },
     "execution_count": 19,
     "metadata": {},
     "output_type": "execute_result"
    }
   ],
   "source": [
    "dt1['User Rating'].max()"
   ]
  },
  {
   "cell_type": "code",
   "execution_count": 21,
   "id": "47ba082d",
   "metadata": {},
   "outputs": [
    {
     "data": {
      "text/html": [
       "<div>\n",
       "<style scoped>\n",
       "    .dataframe tbody tr th:only-of-type {\n",
       "        vertical-align: middle;\n",
       "    }\n",
       "\n",
       "    .dataframe tbody tr th {\n",
       "        vertical-align: top;\n",
       "    }\n",
       "\n",
       "    .dataframe thead th {\n",
       "        text-align: right;\n",
       "    }\n",
       "</style>\n",
       "<table border=\"1\" class=\"dataframe\">\n",
       "  <thead>\n",
       "    <tr style=\"text-align: right;\">\n",
       "      <th></th>\n",
       "      <th>Title</th>\n",
       "      <th>Genre</th>\n",
       "      <th>User Rating</th>\n",
       "      <th>Number of Votes</th>\n",
       "      <th>Runtime</th>\n",
       "      <th>Year</th>\n",
       "      <th>Summary</th>\n",
       "      <th>Stars</th>\n",
       "      <th>Certificate</th>\n",
       "      <th>Metascore</th>\n",
       "      <th>Gross</th>\n",
       "      <th>Episode</th>\n",
       "      <th>Episode Title</th>\n",
       "    </tr>\n",
       "  </thead>\n",
       "  <tbody>\n",
       "    <tr>\n",
       "      <th>13656</th>\n",
       "      <td>Idaten Jump</td>\n",
       "      <td>Animation, Adventure, Comedy</td>\n",
       "      <td>9.898438</td>\n",
       "      <td>11</td>\n",
       "      <td>20</td>\n",
       "      <td>(2005–2006)</td>\n",
       "      <td>0</td>\n",
       "      <td>Dorothy Elias-Fahn,Yuri Lowenthal,Michelle Ruf...</td>\n",
       "      <td>TV-PG</td>\n",
       "      <td>0.0</td>\n",
       "      <td>11</td>\n",
       "      <td>1</td>\n",
       "      <td>X City no monban</td>\n",
       "    </tr>\n",
       "    <tr>\n",
       "      <th>17874</th>\n",
       "      <td>Vinland Saga</td>\n",
       "      <td>Animation, Action, Adventure</td>\n",
       "      <td>9.898438</td>\n",
       "      <td>13663</td>\n",
       "      <td>24</td>\n",
       "      <td>(2019– )</td>\n",
       "      <td>As the Imperial Council proceeds, Askeladd is ...</td>\n",
       "      <td>Mike Haimoto,Yûto Uemura,Naoya Uchida,David Wald</td>\n",
       "      <td>TV-MA</td>\n",
       "      <td>0.0</td>\n",
       "      <td>13663</td>\n",
       "      <td>1</td>\n",
       "      <td>End of The Prologue</td>\n",
       "    </tr>\n",
       "    <tr>\n",
       "      <th>22753</th>\n",
       "      <td>Attack on Titan</td>\n",
       "      <td>Animation, Action, Adventure</td>\n",
       "      <td>9.898438</td>\n",
       "      <td>86907</td>\n",
       "      <td>24</td>\n",
       "      <td>(2013–2023)</td>\n",
       "      <td>As the battle between Eren and the warriors ra...</td>\n",
       "      <td>0</td>\n",
       "      <td>TV-MA</td>\n",
       "      <td>0.0</td>\n",
       "      <td>86907</td>\n",
       "      <td>1</td>\n",
       "      <td>Assault</td>\n",
       "    </tr>\n",
       "    <tr>\n",
       "      <th>34677</th>\n",
       "      <td>Hunter x Hunter</td>\n",
       "      <td>Animation, Action, Adventure</td>\n",
       "      <td>9.898438</td>\n",
       "      <td>9012</td>\n",
       "      <td>23</td>\n",
       "      <td>(2011–2014)</td>\n",
       "      <td>Gon goes beyond his body limits to achieve mon...</td>\n",
       "      <td>0</td>\n",
       "      <td>TV-MA</td>\n",
       "      <td>0.0</td>\n",
       "      <td>9012</td>\n",
       "      <td>1</td>\n",
       "      <td>Anger × and × Light</td>\n",
       "    </tr>\n",
       "    <tr>\n",
       "      <th>39614</th>\n",
       "      <td>Legend of the Galactic Heroes</td>\n",
       "      <td>Animation, Action, Drama</td>\n",
       "      <td>9.898438</td>\n",
       "      <td>350</td>\n",
       "      <td>32</td>\n",
       "      <td>(1988–1997)</td>\n",
       "      <td>After extermination of the Terraist remnants, ...</td>\n",
       "      <td>0</td>\n",
       "      <td>TV-MA</td>\n",
       "      <td>0.0</td>\n",
       "      <td>350</td>\n",
       "      <td>1</td>\n",
       "      <td>Dream: To See It to the End</td>\n",
       "    </tr>\n",
       "    <tr>\n",
       "      <th>45689</th>\n",
       "      <td>Attack on Titan</td>\n",
       "      <td>Animation, Action, Adventure</td>\n",
       "      <td>9.898438</td>\n",
       "      <td>109163</td>\n",
       "      <td>24</td>\n",
       "      <td>(2013–2023)</td>\n",
       "      <td>As Erwin's heroic charge buys Levi time to con...</td>\n",
       "      <td>0</td>\n",
       "      <td>TV-MA</td>\n",
       "      <td>0.0</td>\n",
       "      <td>109163</td>\n",
       "      <td>1</td>\n",
       "      <td>Hero</td>\n",
       "    </tr>\n",
       "  </tbody>\n",
       "</table>\n",
       "</div>"
      ],
      "text/plain": [
       "                               Title                         Genre  \\\n",
       "13656                    Idaten Jump  Animation, Adventure, Comedy   \n",
       "17874                   Vinland Saga  Animation, Action, Adventure   \n",
       "22753                Attack on Titan  Animation, Action, Adventure   \n",
       "34677                Hunter x Hunter  Animation, Action, Adventure   \n",
       "39614  Legend of the Galactic Heroes      Animation, Action, Drama   \n",
       "45689                Attack on Titan  Animation, Action, Adventure   \n",
       "\n",
       "       User Rating  Number of Votes  Runtime         Year  \\\n",
       "13656     9.898438               11       20  (2005–2006)   \n",
       "17874     9.898438            13663       24     (2019– )   \n",
       "22753     9.898438            86907       24  (2013–2023)   \n",
       "34677     9.898438             9012       23  (2011–2014)   \n",
       "39614     9.898438              350       32  (1988–1997)   \n",
       "45689     9.898438           109163       24  (2013–2023)   \n",
       "\n",
       "                                                 Summary  \\\n",
       "13656                                                  0   \n",
       "17874  As the Imperial Council proceeds, Askeladd is ...   \n",
       "22753  As the battle between Eren and the warriors ra...   \n",
       "34677  Gon goes beyond his body limits to achieve mon...   \n",
       "39614  After extermination of the Terraist remnants, ...   \n",
       "45689  As Erwin's heroic charge buys Levi time to con...   \n",
       "\n",
       "                                                   Stars Certificate  \\\n",
       "13656  Dorothy Elias-Fahn,Yuri Lowenthal,Michelle Ruf...       TV-PG   \n",
       "17874   Mike Haimoto,Yûto Uemura,Naoya Uchida,David Wald       TV-MA   \n",
       "22753                                                  0       TV-MA   \n",
       "34677                                                  0       TV-MA   \n",
       "39614                                                  0       TV-MA   \n",
       "45689                                                  0       TV-MA   \n",
       "\n",
       "       Metascore   Gross  Episode                Episode Title  \n",
       "13656        0.0      11        1             X City no monban  \n",
       "17874        0.0   13663        1          End of The Prologue  \n",
       "22753        0.0   86907        1                      Assault  \n",
       "34677        0.0    9012        1          Anger × and × Light  \n",
       "39614        0.0     350        1  Dream: To See It to the End  \n",
       "45689        0.0  109163        1                         Hero  "
      ]
     },
     "execution_count": 21,
     "metadata": {},
     "output_type": "execute_result"
    }
   ],
   "source": [
    "dt1.loc[dt1['User Rating']==9.9]"
   ]
  },
  {
   "cell_type": "code",
   "execution_count": 21,
   "id": "5fa0c073",
   "metadata": {},
   "outputs": [],
   "source": [
    "# Ans: Idaten jump, Vinland saga, Attack on Titan, Hunter x Hunter, Legend of the Galactic Heroes"
   ]
  },
  {
   "cell_type": "code",
   "execution_count": null,
   "id": "0fb6a3bc",
   "metadata": {},
   "outputs": [],
   "source": []
  },
  {
   "cell_type": "code",
   "execution_count": 22,
   "id": "8990ace5",
   "metadata": {},
   "outputs": [],
   "source": [
    "# 3. Which anime has a rating between 7.0 to 9.0?"
   ]
  },
  {
   "cell_type": "code",
   "execution_count": 22,
   "id": "ded71c74",
   "metadata": {},
   "outputs": [
    {
     "data": {
      "text/html": [
       "<div>\n",
       "<style scoped>\n",
       "    .dataframe tbody tr th:only-of-type {\n",
       "        vertical-align: middle;\n",
       "    }\n",
       "\n",
       "    .dataframe tbody tr th {\n",
       "        vertical-align: top;\n",
       "    }\n",
       "\n",
       "    .dataframe thead th {\n",
       "        text-align: right;\n",
       "    }\n",
       "</style>\n",
       "<table border=\"1\" class=\"dataframe\">\n",
       "  <thead>\n",
       "    <tr style=\"text-align: right;\">\n",
       "      <th></th>\n",
       "      <th>Title</th>\n",
       "      <th>Genre</th>\n",
       "      <th>User Rating</th>\n",
       "      <th>Number of Votes</th>\n",
       "      <th>Runtime</th>\n",
       "      <th>Year</th>\n",
       "      <th>Summary</th>\n",
       "      <th>Stars</th>\n",
       "      <th>Certificate</th>\n",
       "      <th>Metascore</th>\n",
       "      <th>Gross</th>\n",
       "      <th>Episode</th>\n",
       "      <th>Episode Title</th>\n",
       "    </tr>\n",
       "  </thead>\n",
       "  <tbody>\n",
       "    <tr>\n",
       "      <th>0</th>\n",
       "      <td>One Piece</td>\n",
       "      <td>Animation, Action, Adventure</td>\n",
       "      <td>8.898438</td>\n",
       "      <td>187689</td>\n",
       "      <td>24</td>\n",
       "      <td>(1999– )</td>\n",
       "      <td>Follows the adventures of Monkey D. Luffy and ...</td>\n",
       "      <td>Mayumi Tanaka,Laurent Vernin,Akemi Okamura,Ton...</td>\n",
       "      <td>TV-14</td>\n",
       "      <td>0.0</td>\n",
       "      <td>187689</td>\n",
       "      <td>0</td>\n",
       "      <td>0</td>\n",
       "    </tr>\n",
       "    <tr>\n",
       "      <th>1</th>\n",
       "      <td>Teenage Mutant Ninja Turtles: Mutant Mayhem</td>\n",
       "      <td>Animation, Action, Adventure</td>\n",
       "      <td>7.398438</td>\n",
       "      <td>28895</td>\n",
       "      <td>99</td>\n",
       "      <td>(2023)</td>\n",
       "      <td>The film follows the Turtle brothers as they w...</td>\n",
       "      <td>0</td>\n",
       "      <td>PG</td>\n",
       "      <td>74.0</td>\n",
       "      <td>28895</td>\n",
       "      <td>0</td>\n",
       "      <td>0</td>\n",
       "    </tr>\n",
       "    <tr>\n",
       "      <th>2</th>\n",
       "      <td>The Super Mario Bros. Movie</td>\n",
       "      <td>Animation, Adventure, Comedy</td>\n",
       "      <td>7.101562</td>\n",
       "      <td>189108</td>\n",
       "      <td>92</td>\n",
       "      <td>(2023)</td>\n",
       "      <td>A plumber named Mario travels through an under...</td>\n",
       "      <td>0</td>\n",
       "      <td>PG</td>\n",
       "      <td>46.0</td>\n",
       "      <td>189108</td>\n",
       "      <td>0</td>\n",
       "      <td>0</td>\n",
       "    </tr>\n",
       "    <tr>\n",
       "      <th>4</th>\n",
       "      <td>Jujutsu Kaisen</td>\n",
       "      <td>Animation, Action, Adventure</td>\n",
       "      <td>8.500000</td>\n",
       "      <td>82909</td>\n",
       "      <td>24</td>\n",
       "      <td>(2020– )</td>\n",
       "      <td>A boy swallows a cursed talisman - the finger ...</td>\n",
       "      <td>Junya Enoki,Yûichi Nakamura,Adam McArthur,Yuma...</td>\n",
       "      <td>TV-MA</td>\n",
       "      <td>0.0</td>\n",
       "      <td>82909</td>\n",
       "      <td>0</td>\n",
       "      <td>0</td>\n",
       "    </tr>\n",
       "    <tr>\n",
       "      <th>6</th>\n",
       "      <td>Demon Slayer: Kimetsu no Yaiba</td>\n",
       "      <td>Animation, Action, Adventure</td>\n",
       "      <td>8.601562</td>\n",
       "      <td>131667</td>\n",
       "      <td>24</td>\n",
       "      <td>(2019– )</td>\n",
       "      <td>A family is attacked by demons and only two me...</td>\n",
       "      <td>Natsuki Hanae,Zach Aguilar,Abby Trott,Akari Kitô</td>\n",
       "      <td>TV-14</td>\n",
       "      <td>0.0</td>\n",
       "      <td>131667</td>\n",
       "      <td>0</td>\n",
       "      <td>0</td>\n",
       "    </tr>\n",
       "    <tr>\n",
       "      <th>...</th>\n",
       "      <td>...</td>\n",
       "      <td>...</td>\n",
       "      <td>...</td>\n",
       "      <td>...</td>\n",
       "      <td>...</td>\n",
       "      <td>...</td>\n",
       "      <td>...</td>\n",
       "      <td>...</td>\n",
       "      <td>...</td>\n",
       "      <td>...</td>\n",
       "      <td>...</td>\n",
       "      <td>...</td>\n",
       "      <td>...</td>\n",
       "    </tr>\n",
       "    <tr>\n",
       "      <th>45709</th>\n",
       "      <td>Demon Slayer: Kimetsu no Yaiba</td>\n",
       "      <td>Animation, Action, Adventure</td>\n",
       "      <td>8.296875</td>\n",
       "      <td>3456</td>\n",
       "      <td>24</td>\n",
       "      <td>(2019– )</td>\n",
       "      <td>Two demons, Tamayo and Yushiro come to Tanjiro...</td>\n",
       "      <td>0</td>\n",
       "      <td>TV-MA</td>\n",
       "      <td>0.0</td>\n",
       "      <td>3456</td>\n",
       "      <td>1</td>\n",
       "      <td>The Smell of Enchanting Blood</td>\n",
       "    </tr>\n",
       "    <tr>\n",
       "      <th>45710</th>\n",
       "      <td>Demon Slayer: Kimetsu no Yaiba</td>\n",
       "      <td>Animation, Action, Adventure</td>\n",
       "      <td>8.398438</td>\n",
       "      <td>3401</td>\n",
       "      <td>24</td>\n",
       "      <td>(2019– )</td>\n",
       "      <td>Two demons, Tamayo and Yushiro come to Tanjiro...</td>\n",
       "      <td>0</td>\n",
       "      <td>TV-MA</td>\n",
       "      <td>0.0</td>\n",
       "      <td>3401</td>\n",
       "      <td>1</td>\n",
       "      <td>Temari Demon and Arrow Demon</td>\n",
       "    </tr>\n",
       "    <tr>\n",
       "      <th>45711</th>\n",
       "      <td>Demon Slayer: Kimetsu no Yaiba</td>\n",
       "      <td>Animation, Action, Adventure</td>\n",
       "      <td>8.398438</td>\n",
       "      <td>3375</td>\n",
       "      <td>24</td>\n",
       "      <td>(2019– )</td>\n",
       "      <td>With Tamayo coming to Nezuko's aid the battle ...</td>\n",
       "      <td>0</td>\n",
       "      <td>TV-MA</td>\n",
       "      <td>0.0</td>\n",
       "      <td>3375</td>\n",
       "      <td>1</td>\n",
       "      <td>Together Forever</td>\n",
       "    </tr>\n",
       "    <tr>\n",
       "      <th>45712</th>\n",
       "      <td>Demon Slayer: Kimetsu no Yaiba</td>\n",
       "      <td>Animation, Action, Adventure</td>\n",
       "      <td>7.300781</td>\n",
       "      <td>3432</td>\n",
       "      <td>24</td>\n",
       "      <td>(2019– )</td>\n",
       "      <td>Tanjiro heads to his next location southeast; ...</td>\n",
       "      <td>0</td>\n",
       "      <td>TV-14</td>\n",
       "      <td>0.0</td>\n",
       "      <td>3432</td>\n",
       "      <td>1</td>\n",
       "      <td>Tsuzumi Mansion</td>\n",
       "    </tr>\n",
       "    <tr>\n",
       "      <th>45713</th>\n",
       "      <td>Demon Slayer: Kimetsu no Yaiba</td>\n",
       "      <td>Animation, Action, Adventure</td>\n",
       "      <td>7.898438</td>\n",
       "      <td>3309</td>\n",
       "      <td>24</td>\n",
       "      <td>(2019– )</td>\n",
       "      <td>Tanjiro gets separated from Zenitsu when he en...</td>\n",
       "      <td>0</td>\n",
       "      <td>TV-MA</td>\n",
       "      <td>0.0</td>\n",
       "      <td>3309</td>\n",
       "      <td>1</td>\n",
       "      <td>The Boar Bares Its Fangs, Zenitsu Sleeps</td>\n",
       "    </tr>\n",
       "  </tbody>\n",
       "</table>\n",
       "<p>15077 rows × 13 columns</p>\n",
       "</div>"
      ],
      "text/plain": [
       "                                             Title  \\\n",
       "0                                        One Piece   \n",
       "1      Teenage Mutant Ninja Turtles: Mutant Mayhem   \n",
       "2                      The Super Mario Bros. Movie   \n",
       "4                                   Jujutsu Kaisen   \n",
       "6                   Demon Slayer: Kimetsu no Yaiba   \n",
       "...                                            ...   \n",
       "45709               Demon Slayer: Kimetsu no Yaiba   \n",
       "45710               Demon Slayer: Kimetsu no Yaiba   \n",
       "45711               Demon Slayer: Kimetsu no Yaiba   \n",
       "45712               Demon Slayer: Kimetsu no Yaiba   \n",
       "45713               Demon Slayer: Kimetsu no Yaiba   \n",
       "\n",
       "                              Genre  User Rating  Number of Votes  Runtime  \\\n",
       "0      Animation, Action, Adventure     8.898438           187689       24   \n",
       "1      Animation, Action, Adventure     7.398438            28895       99   \n",
       "2      Animation, Adventure, Comedy     7.101562           189108       92   \n",
       "4      Animation, Action, Adventure     8.500000            82909       24   \n",
       "6      Animation, Action, Adventure     8.601562           131667       24   \n",
       "...                             ...          ...              ...      ...   \n",
       "45709  Animation, Action, Adventure     8.296875             3456       24   \n",
       "45710  Animation, Action, Adventure     8.398438             3401       24   \n",
       "45711  Animation, Action, Adventure     8.398438             3375       24   \n",
       "45712  Animation, Action, Adventure     7.300781             3432       24   \n",
       "45713  Animation, Action, Adventure     7.898438             3309       24   \n",
       "\n",
       "           Year                                            Summary  \\\n",
       "0      (1999– )  Follows the adventures of Monkey D. Luffy and ...   \n",
       "1        (2023)  The film follows the Turtle brothers as they w...   \n",
       "2        (2023)  A plumber named Mario travels through an under...   \n",
       "4      (2020– )  A boy swallows a cursed talisman - the finger ...   \n",
       "6      (2019– )  A family is attacked by demons and only two me...   \n",
       "...         ...                                                ...   \n",
       "45709  (2019– )  Two demons, Tamayo and Yushiro come to Tanjiro...   \n",
       "45710  (2019– )  Two demons, Tamayo and Yushiro come to Tanjiro...   \n",
       "45711  (2019– )  With Tamayo coming to Nezuko's aid the battle ...   \n",
       "45712  (2019– )  Tanjiro heads to his next location southeast; ...   \n",
       "45713  (2019– )  Tanjiro gets separated from Zenitsu when he en...   \n",
       "\n",
       "                                                   Stars Certificate  \\\n",
       "0      Mayumi Tanaka,Laurent Vernin,Akemi Okamura,Ton...       TV-14   \n",
       "1                                                      0          PG   \n",
       "2                                                      0          PG   \n",
       "4      Junya Enoki,Yûichi Nakamura,Adam McArthur,Yuma...       TV-MA   \n",
       "6       Natsuki Hanae,Zach Aguilar,Abby Trott,Akari Kitô       TV-14   \n",
       "...                                                  ...         ...   \n",
       "45709                                                  0       TV-MA   \n",
       "45710                                                  0       TV-MA   \n",
       "45711                                                  0       TV-MA   \n",
       "45712                                                  0       TV-14   \n",
       "45713                                                  0       TV-MA   \n",
       "\n",
       "       Metascore   Gross  Episode                             Episode Title  \n",
       "0            0.0  187689        0                                         0  \n",
       "1           74.0   28895        0                                         0  \n",
       "2           46.0  189108        0                                         0  \n",
       "4            0.0   82909        0                                         0  \n",
       "6            0.0  131667        0                                         0  \n",
       "...          ...     ...      ...                                       ...  \n",
       "45709        0.0    3456        1             The Smell of Enchanting Blood  \n",
       "45710        0.0    3401        1              Temari Demon and Arrow Demon  \n",
       "45711        0.0    3375        1                          Together Forever  \n",
       "45712        0.0    3432        1                           Tsuzumi Mansion  \n",
       "45713        0.0    3309        1  The Boar Bares Its Fangs, Zenitsu Sleeps  \n",
       "\n",
       "[15077 rows x 13 columns]"
      ]
     },
     "execution_count": 22,
     "metadata": {},
     "output_type": "execute_result"
    }
   ],
   "source": [
    "dt1.loc[(dt1['User Rating']>=7.0)&(dt1['User Rating']<=9.0)]"
   ]
  },
  {
   "cell_type": "code",
   "execution_count": 75,
   "id": "b416b005",
   "metadata": {},
   "outputs": [],
   "source": [
    "# Ans: 15077 animes have user rating between 7.0 to 9.0"
   ]
  },
  {
   "cell_type": "code",
   "execution_count": null,
   "id": "f4c413fd",
   "metadata": {},
   "outputs": [],
   "source": []
  },
  {
   "cell_type": "code",
   "execution_count": 76,
   "id": "cf6ddc47",
   "metadata": {},
   "outputs": [],
   "source": [
    "# 4.Which anime has the highest and lowest runtime?"
   ]
  },
  {
   "cell_type": "code",
   "execution_count": 23,
   "id": "cc52f0ed",
   "metadata": {},
   "outputs": [
    {
     "data": {
      "text/plain": [
       "1271"
      ]
     },
     "execution_count": 23,
     "metadata": {},
     "output_type": "execute_result"
    }
   ],
   "source": [
    "dt1['Runtime'].max()"
   ]
  },
  {
   "cell_type": "code",
   "execution_count": 24,
   "id": "c6159c77",
   "metadata": {},
   "outputs": [
    {
     "data": {
      "text/html": [
       "<div>\n",
       "<style scoped>\n",
       "    .dataframe tbody tr th:only-of-type {\n",
       "        vertical-align: middle;\n",
       "    }\n",
       "\n",
       "    .dataframe tbody tr th {\n",
       "        vertical-align: top;\n",
       "    }\n",
       "\n",
       "    .dataframe thead th {\n",
       "        text-align: right;\n",
       "    }\n",
       "</style>\n",
       "<table border=\"1\" class=\"dataframe\">\n",
       "  <thead>\n",
       "    <tr style=\"text-align: right;\">\n",
       "      <th></th>\n",
       "      <th>Title</th>\n",
       "      <th>Genre</th>\n",
       "      <th>User Rating</th>\n",
       "      <th>Number of Votes</th>\n",
       "      <th>Runtime</th>\n",
       "      <th>Year</th>\n",
       "      <th>Summary</th>\n",
       "      <th>Stars</th>\n",
       "      <th>Certificate</th>\n",
       "      <th>Metascore</th>\n",
       "      <th>Gross</th>\n",
       "      <th>Episode</th>\n",
       "      <th>Episode Title</th>\n",
       "    </tr>\n",
       "  </thead>\n",
       "  <tbody>\n",
       "    <tr>\n",
       "      <th>2798</th>\n",
       "      <td>The Wonderful Wizard of Oz</td>\n",
       "      <td>Animation, Adventure, Family</td>\n",
       "      <td>7.699219</td>\n",
       "      <td>331</td>\n",
       "      <td>1271</td>\n",
       "      <td>(1986–1987)</td>\n",
       "      <td>When Dorothy and her little dog Toto are swept...</td>\n",
       "      <td>Morgan Hallett,Sumi Shimamoto,Mark Denis,Yoshi...</td>\n",
       "      <td>TV-Y</td>\n",
       "      <td>0.0</td>\n",
       "      <td>331</td>\n",
       "      <td>0</td>\n",
       "      <td>0</td>\n",
       "    </tr>\n",
       "  </tbody>\n",
       "</table>\n",
       "</div>"
      ],
      "text/plain": [
       "                           Title                         Genre  User Rating  \\\n",
       "2798  The Wonderful Wizard of Oz  Animation, Adventure, Family     7.699219   \n",
       "\n",
       "      Number of Votes  Runtime         Year  \\\n",
       "2798              331     1271  (1986–1987)   \n",
       "\n",
       "                                                Summary  \\\n",
       "2798  When Dorothy and her little dog Toto are swept...   \n",
       "\n",
       "                                                  Stars Certificate  \\\n",
       "2798  Morgan Hallett,Sumi Shimamoto,Mark Denis,Yoshi...        TV-Y   \n",
       "\n",
       "      Metascore  Gross  Episode Episode Title  \n",
       "2798        0.0    331        0             0  "
      ]
     },
     "execution_count": 24,
     "metadata": {},
     "output_type": "execute_result"
    }
   ],
   "source": [
    "dt1.loc[dt1['Runtime']==1271]"
   ]
  },
  {
   "cell_type": "code",
   "execution_count": 25,
   "id": "a5db41de",
   "metadata": {},
   "outputs": [
    {
     "data": {
      "text/plain": [
       "0"
      ]
     },
     "execution_count": 25,
     "metadata": {},
     "output_type": "execute_result"
    }
   ],
   "source": [
    "dt1['Runtime'].min()"
   ]
  },
  {
   "cell_type": "code",
   "execution_count": 27,
   "id": "8eb1edd7",
   "metadata": {},
   "outputs": [],
   "source": [
    "y = dt1.loc[dt1['Runtime']==dt1['Runtime'].min()]"
   ]
  },
  {
   "cell_type": "code",
   "execution_count": 28,
   "id": "152424dc",
   "metadata": {},
   "outputs": [
    {
     "data": {
      "text/plain": [
       "2889"
      ]
     },
     "execution_count": 28,
     "metadata": {},
     "output_type": "execute_result"
    }
   ],
   "source": [
    "len(y['Title'].unique())"
   ]
  },
  {
   "cell_type": "code",
   "execution_count": 83,
   "id": "59490077",
   "metadata": {},
   "outputs": [],
   "source": [
    "# Ans: 1.'The Wonderful Wizard of Oz' has the highest runtime.\n",
    "#      2. 2889 animes has lowest runtime"
   ]
  },
  {
   "cell_type": "code",
   "execution_count": null,
   "id": "7a93c792",
   "metadata": {},
   "outputs": [],
   "source": []
  },
  {
   "cell_type": "code",
   "execution_count": 84,
   "id": "86f9e48b",
   "metadata": {},
   "outputs": [],
   "source": [
    "# 5. What is the runtime difference between one Piece and the super mario bros movie?"
   ]
  },
  {
   "cell_type": "code",
   "execution_count": 29,
   "id": "179d70d5",
   "metadata": {},
   "outputs": [],
   "source": [
    "x =  dt1.loc[dt1['Title']=='One Piece']"
   ]
  },
  {
   "cell_type": "code",
   "execution_count": 30,
   "id": "e6e4a753",
   "metadata": {},
   "outputs": [],
   "source": [
    "y = dt1.loc[dt1['Title']=='The Super Mario Bros. Movie']"
   ]
  },
  {
   "cell_type": "code",
   "execution_count": 31,
   "id": "6bddd354",
   "metadata": {},
   "outputs": [
    {
     "data": {
      "text/plain": [
       "0        24\n",
       "13549    24\n",
       "13550    25\n",
       "13551    24\n",
       "13553    24\n",
       "         ..\n",
       "45359     0\n",
       "45373     0\n",
       "45584     0\n",
       "45649     0\n",
       "45714     0\n",
       "Name: Runtime, Length: 904, dtype: int32"
      ]
     },
     "execution_count": 31,
     "metadata": {},
     "output_type": "execute_result"
    }
   ],
   "source": [
    "x['Runtime']"
   ]
  },
  {
   "cell_type": "code",
   "execution_count": 32,
   "id": "c7b96a29",
   "metadata": {},
   "outputs": [
    {
     "data": {
      "text/plain": [
       "2    92\n",
       "Name: Runtime, dtype: int32"
      ]
     },
     "execution_count": 32,
     "metadata": {},
     "output_type": "execute_result"
    }
   ],
   "source": [
    "y['Runtime']"
   ]
  },
  {
   "cell_type": "code",
   "execution_count": 103,
   "id": "ca1c3547",
   "metadata": {},
   "outputs": [],
   "source": [
    "# Ans: 92 - 25 = 67 minutes\n",
    "# 67 minutes is the runtime difference between one piece and the super mario bros movie"
   ]
  },
  {
   "cell_type": "code",
   "execution_count": null,
   "id": "cbd0a06c",
   "metadata": {},
   "outputs": [],
   "source": []
  },
  {
   "cell_type": "code",
   "execution_count": 124,
   "id": "410df6e3",
   "metadata": {},
   "outputs": [],
   "source": [
    "# 7.Which anime has the lowest gross price?"
   ]
  },
  {
   "cell_type": "code",
   "execution_count": 35,
   "id": "7980594f",
   "metadata": {},
   "outputs": [
    {
     "data": {
      "text/plain": [
       "0"
      ]
     },
     "execution_count": 35,
     "metadata": {},
     "output_type": "execute_result"
    }
   ],
   "source": [
    "dt1['Gross'].min()"
   ]
  },
  {
   "cell_type": "code",
   "execution_count": 36,
   "id": "d90f4c3f",
   "metadata": {},
   "outputs": [
    {
     "data": {
      "text/plain": [
       "20660"
      ]
     },
     "execution_count": 36,
     "metadata": {},
     "output_type": "execute_result"
    }
   ],
   "source": [
    "len(dt1.loc[dt1['Gross']==dt1['Gross'].min()])"
   ]
  },
  {
   "cell_type": "code",
   "execution_count": 141,
   "id": "fa122b64",
   "metadata": {},
   "outputs": [],
   "source": [
    "# Ans: 20660 animes have lowest gross price"
   ]
  },
  {
   "cell_type": "code",
   "execution_count": null,
   "id": "cd15dc64",
   "metadata": {},
   "outputs": [],
   "source": []
  },
  {
   "cell_type": "code",
   "execution_count": 142,
   "id": "710e87f2",
   "metadata": {},
   "outputs": [],
   "source": [
    "# 7.How many anime have the PG certification?"
   ]
  },
  {
   "cell_type": "code",
   "execution_count": 37,
   "id": "1a3bb282",
   "metadata": {},
   "outputs": [
    {
     "data": {
      "text/plain": [
       "348"
      ]
     },
     "execution_count": 37,
     "metadata": {},
     "output_type": "execute_result"
    }
   ],
   "source": [
    "len(dt1.loc[dt1['Certificate']=='PG'])"
   ]
  },
  {
   "cell_type": "code",
   "execution_count": 145,
   "id": "bc68614a",
   "metadata": {},
   "outputs": [],
   "source": [
    "# Ans: 348 Anime has PG certification"
   ]
  },
  {
   "cell_type": "code",
   "execution_count": null,
   "id": "9c44f18d",
   "metadata": {},
   "outputs": [],
   "source": []
  },
  {
   "cell_type": "code",
   "execution_count": 146,
   "id": "78c095d6",
   "metadata": {},
   "outputs": [],
   "source": [
    "# 8.What is the average number of votes in your dataset?"
   ]
  },
  {
   "cell_type": "code",
   "execution_count": 38,
   "id": "b4a3d381",
   "metadata": {},
   "outputs": [
    {
     "data": {
      "text/plain": [
       "943.2429364672302"
      ]
     },
     "execution_count": 38,
     "metadata": {},
     "output_type": "execute_result"
    }
   ],
   "source": [
    "dt1['Number of Votes'].mean()"
   ]
  },
  {
   "cell_type": "code",
   "execution_count": null,
   "id": "955fc494",
   "metadata": {},
   "outputs": [],
   "source": [
    "# Ans: 943.25 is the average number of votes in the data set"
   ]
  }
 ],
 "metadata": {
  "kernelspec": {
   "display_name": "Python 3 (ipykernel)",
   "language": "python",
   "name": "python3"
  },
  "language_info": {
   "codemirror_mode": {
    "name": "ipython",
    "version": 3
   },
   "file_extension": ".py",
   "mimetype": "text/x-python",
   "name": "python",
   "nbconvert_exporter": "python",
   "pygments_lexer": "ipython3",
   "version": "3.11.3"
  }
 },
 "nbformat": 4,
 "nbformat_minor": 5
}
