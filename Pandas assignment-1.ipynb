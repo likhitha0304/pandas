{
 "cells": [
  {
   "cell_type": "code",
   "execution_count": 1,
   "id": "e432336a",
   "metadata": {},
   "outputs": [],
   "source": [
    "import numpy as np\n",
    "import pandas as pd"
   ]
  },
  {
   "cell_type": "code",
   "execution_count": 34,
   "id": "9ab99d1d",
   "metadata": {},
   "outputs": [],
   "source": [
    "data = pd.read_csv(r\"C:\\Users\\srava\\Downloads\\cleaned_all_phones.csv\")"
   ]
  },
  {
   "cell_type": "code",
   "execution_count": 35,
   "id": "80510ec6",
   "metadata": {},
   "outputs": [
    {
     "data": {
      "text/html": [
       "<div>\n",
       "<style scoped>\n",
       "    .dataframe tbody tr th:only-of-type {\n",
       "        vertical-align: middle;\n",
       "    }\n",
       "\n",
       "    .dataframe tbody tr th {\n",
       "        vertical-align: top;\n",
       "    }\n",
       "\n",
       "    .dataframe thead th {\n",
       "        text-align: right;\n",
       "    }\n",
       "</style>\n",
       "<table border=\"1\" class=\"dataframe\">\n",
       "  <thead>\n",
       "    <tr style=\"text-align: right;\">\n",
       "      <th></th>\n",
       "      <th>phone_name</th>\n",
       "      <th>brand</th>\n",
       "      <th>os</th>\n",
       "      <th>inches</th>\n",
       "      <th>resolution</th>\n",
       "      <th>battery</th>\n",
       "      <th>battery_type</th>\n",
       "      <th>ram(GB)</th>\n",
       "      <th>announcement_date</th>\n",
       "      <th>weight(g)</th>\n",
       "      <th>...</th>\n",
       "      <th>video_1080p</th>\n",
       "      <th>video_4K</th>\n",
       "      <th>video_8K</th>\n",
       "      <th>video_30fps</th>\n",
       "      <th>video_60fps</th>\n",
       "      <th>video_120fps</th>\n",
       "      <th>video_240fps</th>\n",
       "      <th>video_480fps</th>\n",
       "      <th>video_960fps</th>\n",
       "      <th>price(USD)</th>\n",
       "    </tr>\n",
       "  </thead>\n",
       "  <tbody>\n",
       "    <tr>\n",
       "      <th>0</th>\n",
       "      <td>Y6II Compact</td>\n",
       "      <td>Huawei</td>\n",
       "      <td>Android 5.1</td>\n",
       "      <td>5.0</td>\n",
       "      <td>720x1280</td>\n",
       "      <td>2200</td>\n",
       "      <td>Li-Po</td>\n",
       "      <td>2</td>\n",
       "      <td>2016-09-01</td>\n",
       "      <td>140.0</td>\n",
       "      <td>...</td>\n",
       "      <td>False</td>\n",
       "      <td>False</td>\n",
       "      <td>False</td>\n",
       "      <td>True</td>\n",
       "      <td>False</td>\n",
       "      <td>False</td>\n",
       "      <td>False</td>\n",
       "      <td>False</td>\n",
       "      <td>False</td>\n",
       "      <td>120.0</td>\n",
       "    </tr>\n",
       "    <tr>\n",
       "      <th>1</th>\n",
       "      <td>K20 plus</td>\n",
       "      <td>LG</td>\n",
       "      <td>Android 7.0</td>\n",
       "      <td>5.3</td>\n",
       "      <td>720x1280</td>\n",
       "      <td>2700</td>\n",
       "      <td>Li-Ion</td>\n",
       "      <td>2</td>\n",
       "      <td>2016-12-01</td>\n",
       "      <td>140.0</td>\n",
       "      <td>...</td>\n",
       "      <td>True</td>\n",
       "      <td>False</td>\n",
       "      <td>False</td>\n",
       "      <td>True</td>\n",
       "      <td>False</td>\n",
       "      <td>False</td>\n",
       "      <td>False</td>\n",
       "      <td>False</td>\n",
       "      <td>False</td>\n",
       "      <td>100.0</td>\n",
       "    </tr>\n",
       "    <tr>\n",
       "      <th>2</th>\n",
       "      <td>P8 Lite (2017)</td>\n",
       "      <td>Huawei</td>\n",
       "      <td>Android 7.0</td>\n",
       "      <td>5.2</td>\n",
       "      <td>1080x1920</td>\n",
       "      <td>3000</td>\n",
       "      <td>Li-Ion</td>\n",
       "      <td>4</td>\n",
       "      <td>2017-01-01</td>\n",
       "      <td>147.0</td>\n",
       "      <td>...</td>\n",
       "      <td>True</td>\n",
       "      <td>False</td>\n",
       "      <td>False</td>\n",
       "      <td>True</td>\n",
       "      <td>False</td>\n",
       "      <td>False</td>\n",
       "      <td>False</td>\n",
       "      <td>False</td>\n",
       "      <td>False</td>\n",
       "      <td>420.0</td>\n",
       "    </tr>\n",
       "    <tr>\n",
       "      <th>3</th>\n",
       "      <td>Redmi Note 4</td>\n",
       "      <td>Xiaomi</td>\n",
       "      <td>Android 6.0</td>\n",
       "      <td>5.5</td>\n",
       "      <td>1080x1920</td>\n",
       "      <td>4100</td>\n",
       "      <td>Li-Po</td>\n",
       "      <td>4</td>\n",
       "      <td>2017-01-01</td>\n",
       "      <td>165.0</td>\n",
       "      <td>...</td>\n",
       "      <td>True</td>\n",
       "      <td>False</td>\n",
       "      <td>False</td>\n",
       "      <td>True</td>\n",
       "      <td>False</td>\n",
       "      <td>True</td>\n",
       "      <td>False</td>\n",
       "      <td>False</td>\n",
       "      <td>False</td>\n",
       "      <td>150.0</td>\n",
       "    </tr>\n",
       "    <tr>\n",
       "      <th>4</th>\n",
       "      <td>P10</td>\n",
       "      <td>Huawei</td>\n",
       "      <td>Android 7.0</td>\n",
       "      <td>5.1</td>\n",
       "      <td>1080x1920</td>\n",
       "      <td>3200</td>\n",
       "      <td>Li-Ion</td>\n",
       "      <td>4</td>\n",
       "      <td>2017-02-01</td>\n",
       "      <td>145.0</td>\n",
       "      <td>...</td>\n",
       "      <td>True</td>\n",
       "      <td>True</td>\n",
       "      <td>False</td>\n",
       "      <td>True</td>\n",
       "      <td>True</td>\n",
       "      <td>False</td>\n",
       "      <td>False</td>\n",
       "      <td>False</td>\n",
       "      <td>False</td>\n",
       "      <td>420.0</td>\n",
       "    </tr>\n",
       "  </tbody>\n",
       "</table>\n",
       "<p>5 rows × 22 columns</p>\n",
       "</div>"
      ],
      "text/plain": [
       "       phone_name   brand           os  inches resolution  battery  \\\n",
       "0    Y6II Compact  Huawei  Android 5.1     5.0   720x1280     2200   \n",
       "1        K20 plus      LG  Android 7.0     5.3   720x1280     2700   \n",
       "2  P8 Lite (2017)  Huawei  Android 7.0     5.2  1080x1920     3000   \n",
       "3    Redmi Note 4  Xiaomi  Android 6.0     5.5  1080x1920     4100   \n",
       "4             P10  Huawei  Android 7.0     5.1  1080x1920     3200   \n",
       "\n",
       "  battery_type  ram(GB) announcement_date  weight(g)  ...  video_1080p  \\\n",
       "0        Li-Po        2        2016-09-01      140.0  ...        False   \n",
       "1       Li-Ion        2        2016-12-01      140.0  ...         True   \n",
       "2       Li-Ion        4        2017-01-01      147.0  ...         True   \n",
       "3        Li-Po        4        2017-01-01      165.0  ...         True   \n",
       "4       Li-Ion        4        2017-02-01      145.0  ...         True   \n",
       "\n",
       "   video_4K  video_8K  video_30fps  video_60fps  video_120fps  video_240fps  \\\n",
       "0     False     False         True        False         False         False   \n",
       "1     False     False         True        False         False         False   \n",
       "2     False     False         True        False         False         False   \n",
       "3     False     False         True        False          True         False   \n",
       "4      True     False         True         True         False         False   \n",
       "\n",
       "   video_480fps  video_960fps  price(USD)  \n",
       "0         False         False       120.0  \n",
       "1         False         False       100.0  \n",
       "2         False         False       420.0  \n",
       "3         False         False       150.0  \n",
       "4         False         False       420.0  \n",
       "\n",
       "[5 rows x 22 columns]"
      ]
     },
     "execution_count": 35,
     "metadata": {},
     "output_type": "execute_result"
    }
   ],
   "source": [
    "data.head()"
   ]
  },
  {
   "cell_type": "code",
   "execution_count": 36,
   "id": "0d8cd268",
   "metadata": {},
   "outputs": [
    {
     "name": "stdout",
     "output_type": "stream",
     "text": [
      "<class 'pandas.core.frame.DataFrame'>\n",
      "RangeIndex: 1512 entries, 0 to 1511\n",
      "Data columns (total 22 columns):\n",
      " #   Column             Non-Null Count  Dtype  \n",
      "---  ------             --------------  -----  \n",
      " 0   phone_name         1512 non-null   object \n",
      " 1   brand              1512 non-null   object \n",
      " 2   os                 1512 non-null   object \n",
      " 3   inches             1512 non-null   float64\n",
      " 4   resolution         1512 non-null   object \n",
      " 5   battery            1512 non-null   int64  \n",
      " 6   battery_type       1512 non-null   object \n",
      " 7   ram(GB)            1512 non-null   int64  \n",
      " 8   announcement_date  1512 non-null   object \n",
      " 9   weight(g)          1512 non-null   float64\n",
      " 10  storage(GB)        1512 non-null   int64  \n",
      " 11  video_720p         1512 non-null   bool   \n",
      " 12  video_1080p        1512 non-null   bool   \n",
      " 13  video_4K           1512 non-null   bool   \n",
      " 14  video_8K           1512 non-null   bool   \n",
      " 15  video_30fps        1512 non-null   bool   \n",
      " 16  video_60fps        1512 non-null   bool   \n",
      " 17  video_120fps       1512 non-null   bool   \n",
      " 18  video_240fps       1512 non-null   bool   \n",
      " 19  video_480fps       1512 non-null   bool   \n",
      " 20  video_960fps       1512 non-null   bool   \n",
      " 21  price(USD)         1512 non-null   float64\n",
      "dtypes: bool(10), float64(3), int64(3), object(6)\n",
      "memory usage: 156.6+ KB\n"
     ]
    }
   ],
   "source": [
    "data.info()"
   ]
  },
  {
   "cell_type": "code",
   "execution_count": 37,
   "id": "e7594d5b",
   "metadata": {},
   "outputs": [],
   "source": [
    "data['announcement_date']=pd.to_datetime(data['announcement_date'])"
   ]
  },
  {
   "cell_type": "code",
   "execution_count": 38,
   "id": "6916d1b1",
   "metadata": {},
   "outputs": [],
   "source": [
    "# 1.How many unique  mobile brands are there in the data provided?"
   ]
  },
  {
   "cell_type": "code",
   "execution_count": 39,
   "id": "52aa4b3e",
   "metadata": {},
   "outputs": [
    {
     "data": {
      "text/plain": [
       "13"
      ]
     },
     "execution_count": 39,
     "metadata": {},
     "output_type": "execute_result"
    }
   ],
   "source": [
    "len(data['brand'].unique())"
   ]
  },
  {
   "cell_type": "code",
   "execution_count": null,
   "id": "a83bab03",
   "metadata": {},
   "outputs": [],
   "source": [
    "# Ans: 13 mobile brands are unique"
   ]
  },
  {
   "cell_type": "code",
   "execution_count": null,
   "id": "fbf6d1de",
   "metadata": {},
   "outputs": [],
   "source": []
  },
  {
   "cell_type": "code",
   "execution_count": null,
   "id": "5b024919",
   "metadata": {},
   "outputs": [],
   "source": [
    "#2. What is the average ram size of all the collected data?"
   ]
  },
  {
   "cell_type": "code",
   "execution_count": 40,
   "id": "e337ee09",
   "metadata": {},
   "outputs": [
    {
     "data": {
      "text/plain": [
       "6.6838624338624335"
      ]
     },
     "execution_count": 40,
     "metadata": {},
     "output_type": "execute_result"
    }
   ],
   "source": [
    "data['ram(GB)'].mean()"
   ]
  },
  {
   "cell_type": "code",
   "execution_count": null,
   "id": "5872bdff",
   "metadata": {},
   "outputs": [],
   "source": [
    "# Ans: 6.69 is the average ram size of all the collected data."
   ]
  },
  {
   "cell_type": "code",
   "execution_count": null,
   "id": "8ac81a38",
   "metadata": {},
   "outputs": [],
   "source": []
  },
  {
   "cell_type": "code",
   "execution_count": null,
   "id": "a42c8bd1",
   "metadata": {},
   "outputs": [],
   "source": [
    "# 3.Which phone is having the maximum and minimum battery capacity?"
   ]
  },
  {
   "cell_type": "code",
   "execution_count": 41,
   "id": "482317d0",
   "metadata": {},
   "outputs": [
    {
     "data": {
      "text/plain": [
       "1821"
      ]
     },
     "execution_count": 41,
     "metadata": {},
     "output_type": "execute_result"
    }
   ],
   "source": [
    "data['battery'].min()"
   ]
  },
  {
   "cell_type": "code",
   "execution_count": 42,
   "id": "4a8e4a1e",
   "metadata": {},
   "outputs": [
    {
     "data": {
      "text/html": [
       "<div>\n",
       "<style scoped>\n",
       "    .dataframe tbody tr th:only-of-type {\n",
       "        vertical-align: middle;\n",
       "    }\n",
       "\n",
       "    .dataframe tbody tr th {\n",
       "        vertical-align: top;\n",
       "    }\n",
       "\n",
       "    .dataframe thead th {\n",
       "        text-align: right;\n",
       "    }\n",
       "</style>\n",
       "<table border=\"1\" class=\"dataframe\">\n",
       "  <thead>\n",
       "    <tr style=\"text-align: right;\">\n",
       "      <th></th>\n",
       "      <th>phone_name</th>\n",
       "      <th>brand</th>\n",
       "      <th>os</th>\n",
       "      <th>inches</th>\n",
       "      <th>resolution</th>\n",
       "      <th>battery</th>\n",
       "      <th>battery_type</th>\n",
       "      <th>ram(GB)</th>\n",
       "      <th>announcement_date</th>\n",
       "      <th>weight(g)</th>\n",
       "      <th>...</th>\n",
       "      <th>video_1080p</th>\n",
       "      <th>video_4K</th>\n",
       "      <th>video_8K</th>\n",
       "      <th>video_30fps</th>\n",
       "      <th>video_60fps</th>\n",
       "      <th>video_120fps</th>\n",
       "      <th>video_240fps</th>\n",
       "      <th>video_480fps</th>\n",
       "      <th>video_960fps</th>\n",
       "      <th>price(USD)</th>\n",
       "    </tr>\n",
       "  </thead>\n",
       "  <tbody>\n",
       "    <tr>\n",
       "      <th>62</th>\n",
       "      <td>iPhone 8</td>\n",
       "      <td>Apple</td>\n",
       "      <td>iOS 11</td>\n",
       "      <td>4.7</td>\n",
       "      <td>750x1334</td>\n",
       "      <td>1821</td>\n",
       "      <td>Li-Ion</td>\n",
       "      <td>2</td>\n",
       "      <td>2017-09-12</td>\n",
       "      <td>148.0</td>\n",
       "      <td>...</td>\n",
       "      <td>True</td>\n",
       "      <td>True</td>\n",
       "      <td>False</td>\n",
       "      <td>True</td>\n",
       "      <td>True</td>\n",
       "      <td>True</td>\n",
       "      <td>True</td>\n",
       "      <td>False</td>\n",
       "      <td>False</td>\n",
       "      <td>210.0</td>\n",
       "    </tr>\n",
       "    <tr>\n",
       "      <th>536</th>\n",
       "      <td>iPhone SE (2020)</td>\n",
       "      <td>Apple</td>\n",
       "      <td>iOS 13</td>\n",
       "      <td>4.7</td>\n",
       "      <td>750x1334</td>\n",
       "      <td>1821</td>\n",
       "      <td>Li-Ion</td>\n",
       "      <td>3</td>\n",
       "      <td>2020-04-15</td>\n",
       "      <td>148.0</td>\n",
       "      <td>...</td>\n",
       "      <td>True</td>\n",
       "      <td>True</td>\n",
       "      <td>False</td>\n",
       "      <td>True</td>\n",
       "      <td>True</td>\n",
       "      <td>True</td>\n",
       "      <td>True</td>\n",
       "      <td>False</td>\n",
       "      <td>False</td>\n",
       "      <td>189.5</td>\n",
       "    </tr>\n",
       "  </tbody>\n",
       "</table>\n",
       "<p>2 rows × 22 columns</p>\n",
       "</div>"
      ],
      "text/plain": [
       "           phone_name  brand      os  inches resolution  battery battery_type  \\\n",
       "62           iPhone 8  Apple  iOS 11     4.7   750x1334     1821       Li-Ion   \n",
       "536  iPhone SE (2020)  Apple  iOS 13     4.7   750x1334     1821       Li-Ion   \n",
       "\n",
       "     ram(GB) announcement_date  weight(g)  ...  video_1080p  video_4K  \\\n",
       "62         2        2017-09-12      148.0  ...         True      True   \n",
       "536        3        2020-04-15      148.0  ...         True      True   \n",
       "\n",
       "     video_8K  video_30fps  video_60fps  video_120fps  video_240fps  \\\n",
       "62      False         True         True          True          True   \n",
       "536     False         True         True          True          True   \n",
       "\n",
       "     video_480fps  video_960fps  price(USD)  \n",
       "62          False         False       210.0  \n",
       "536         False         False       189.5  \n",
       "\n",
       "[2 rows x 22 columns]"
      ]
     },
     "execution_count": 42,
     "metadata": {},
     "output_type": "execute_result"
    }
   ],
   "source": [
    "data.loc[data['battery']==1821]"
   ]
  },
  {
   "cell_type": "code",
   "execution_count": null,
   "id": "2731f38a",
   "metadata": {},
   "outputs": [],
   "source": [
    "# Ans: iphone 8 and iphone SE(2020) are having minimum RAM capacity."
   ]
  },
  {
   "cell_type": "code",
   "execution_count": null,
   "id": "9a5c5d12",
   "metadata": {},
   "outputs": [],
   "source": []
  },
  {
   "cell_type": "code",
   "execution_count": null,
   "id": "1a504b13",
   "metadata": {},
   "outputs": [],
   "source": [
    "#4. What is the maximum battery capacity provided by Huawei Company?"
   ]
  },
  {
   "cell_type": "code",
   "execution_count": 43,
   "id": "36cf7029",
   "metadata": {},
   "outputs": [],
   "source": [
    "x = data.groupby('brand')"
   ]
  },
  {
   "cell_type": "code",
   "execution_count": 45,
   "id": "17df75e6",
   "metadata": {},
   "outputs": [
    {
     "data": {
      "text/html": [
       "<div>\n",
       "<style scoped>\n",
       "    .dataframe tbody tr th:only-of-type {\n",
       "        vertical-align: middle;\n",
       "    }\n",
       "\n",
       "    .dataframe tbody tr th {\n",
       "        vertical-align: top;\n",
       "    }\n",
       "\n",
       "    .dataframe thead tr th {\n",
       "        text-align: left;\n",
       "    }\n",
       "\n",
       "    .dataframe thead tr:last-of-type th {\n",
       "        text-align: right;\n",
       "    }\n",
       "</style>\n",
       "<table border=\"1\" class=\"dataframe\">\n",
       "  <thead>\n",
       "    <tr>\n",
       "      <th></th>\n",
       "      <th colspan=\"2\" halign=\"left\">battery</th>\n",
       "    </tr>\n",
       "    <tr>\n",
       "      <th></th>\n",
       "      <th>min</th>\n",
       "      <th>max</th>\n",
       "    </tr>\n",
       "    <tr>\n",
       "      <th>brand</th>\n",
       "      <th></th>\n",
       "      <th></th>\n",
       "    </tr>\n",
       "  </thead>\n",
       "  <tbody>\n",
       "    <tr>\n",
       "      <th>Apple</th>\n",
       "      <td>1821</td>\n",
       "      <td>4352</td>\n",
       "    </tr>\n",
       "    <tr>\n",
       "      <th>Google</th>\n",
       "      <td>2700</td>\n",
       "      <td>5003</td>\n",
       "    </tr>\n",
       "    <tr>\n",
       "      <th>Honor</th>\n",
       "      <td>3000</td>\n",
       "      <td>7250</td>\n",
       "    </tr>\n",
       "    <tr>\n",
       "      <th>Huawei</th>\n",
       "      <td>2200</td>\n",
       "      <td>7000</td>\n",
       "    </tr>\n",
       "    <tr>\n",
       "      <th>LG</th>\n",
       "      <td>2410</td>\n",
       "      <td>5000</td>\n",
       "    </tr>\n",
       "    <tr>\n",
       "      <th>Lenovo</th>\n",
       "      <td>3000</td>\n",
       "      <td>7000</td>\n",
       "    </tr>\n",
       "    <tr>\n",
       "      <th>OnePlus</th>\n",
       "      <td>3300</td>\n",
       "      <td>5000</td>\n",
       "    </tr>\n",
       "    <tr>\n",
       "      <th>Oppo</th>\n",
       "      <td>2900</td>\n",
       "      <td>5000</td>\n",
       "    </tr>\n",
       "    <tr>\n",
       "      <th>Realme</th>\n",
       "      <td>3410</td>\n",
       "      <td>6000</td>\n",
       "    </tr>\n",
       "    <tr>\n",
       "      <th>Samsung</th>\n",
       "      <td>1950</td>\n",
       "      <td>7000</td>\n",
       "    </tr>\n",
       "    <tr>\n",
       "      <th>Sony</th>\n",
       "      <td>2300</td>\n",
       "      <td>5000</td>\n",
       "    </tr>\n",
       "    <tr>\n",
       "      <th>Vivo</th>\n",
       "      <td>4000</td>\n",
       "      <td>6000</td>\n",
       "    </tr>\n",
       "    <tr>\n",
       "      <th>Xiaomi</th>\n",
       "      <td>3000</td>\n",
       "      <td>6000</td>\n",
       "    </tr>\n",
       "  </tbody>\n",
       "</table>\n",
       "</div>"
      ],
      "text/plain": [
       "        battery      \n",
       "            min   max\n",
       "brand                \n",
       "Apple      1821  4352\n",
       "Google     2700  5003\n",
       "Honor      3000  7250\n",
       "Huawei     2200  7000\n",
       "LG         2410  5000\n",
       "Lenovo     3000  7000\n",
       "OnePlus    3300  5000\n",
       "Oppo       2900  5000\n",
       "Realme     3410  6000\n",
       "Samsung    1950  7000\n",
       "Sony       2300  5000\n",
       "Vivo       4000  6000\n",
       "Xiaomi     3000  6000"
      ]
     },
     "execution_count": 45,
     "metadata": {},
     "output_type": "execute_result"
    }
   ],
   "source": [
    "x.agg({'battery':['min','max']})"
   ]
  },
  {
   "cell_type": "code",
   "execution_count": null,
   "id": "e329cc39",
   "metadata": {},
   "outputs": [],
   "source": [
    "# Ans: 7000 is the highest RAM provided by huawei company."
   ]
  },
  {
   "cell_type": "code",
   "execution_count": null,
   "id": "b8e9069a",
   "metadata": {},
   "outputs": [],
   "source": []
  },
  {
   "cell_type": "code",
   "execution_count": null,
   "id": "422b58bb",
   "metadata": {},
   "outputs": [],
   "source": [
    "# 5.Which Phone brand is providing the highest and lowest ram?"
   ]
  },
  {
   "cell_type": "code",
   "execution_count": null,
   "id": "3671a058",
   "metadata": {},
   "outputs": [],
   "source": [
    "# Ans: Xiaomi is providing highest and lowest RAM"
   ]
  },
  {
   "cell_type": "code",
   "execution_count": null,
   "id": "7faf6c45",
   "metadata": {},
   "outputs": [],
   "source": []
  },
  {
   "cell_type": "code",
   "execution_count": null,
   "id": "ae3ab7ed",
   "metadata": {},
   "outputs": [],
   "source": [
    "#6. How many phones has android 7.0 as there operating system?"
   ]
  },
  {
   "cell_type": "code",
   "execution_count": 46,
   "id": "d4da2f94",
   "metadata": {},
   "outputs": [
    {
     "data": {
      "text/plain": [
       "33"
      ]
     },
     "execution_count": 46,
     "metadata": {},
     "output_type": "execute_result"
    }
   ],
   "source": [
    "len(data.loc[data['os']=='Android 7.0'])"
   ]
  },
  {
   "cell_type": "code",
   "execution_count": null,
   "id": "6109cc40",
   "metadata": {},
   "outputs": [],
   "source": [
    "# Ans: 33 phones have Android 7.0 as operating system"
   ]
  },
  {
   "cell_type": "code",
   "execution_count": null,
   "id": "55bf2b29",
   "metadata": {},
   "outputs": [],
   "source": []
  },
  {
   "cell_type": "code",
   "execution_count": null,
   "id": "95169c4c",
   "metadata": {},
   "outputs": [],
   "source": [
    "#7. Which Phone is the oldest?"
   ]
  },
  {
   "cell_type": "code",
   "execution_count": 47,
   "id": "581c32f6",
   "metadata": {},
   "outputs": [
    {
     "data": {
      "text/plain": [
       "Timestamp('2016-09-01 00:00:00')"
      ]
     },
     "execution_count": 47,
     "metadata": {},
     "output_type": "execute_result"
    }
   ],
   "source": [
    "data['announcement_date'].min()"
   ]
  },
  {
   "cell_type": "code",
   "execution_count": 48,
   "id": "dccb314f",
   "metadata": {},
   "outputs": [
    {
     "data": {
      "text/html": [
       "<div>\n",
       "<style scoped>\n",
       "    .dataframe tbody tr th:only-of-type {\n",
       "        vertical-align: middle;\n",
       "    }\n",
       "\n",
       "    .dataframe tbody tr th {\n",
       "        vertical-align: top;\n",
       "    }\n",
       "\n",
       "    .dataframe thead th {\n",
       "        text-align: right;\n",
       "    }\n",
       "</style>\n",
       "<table border=\"1\" class=\"dataframe\">\n",
       "  <thead>\n",
       "    <tr style=\"text-align: right;\">\n",
       "      <th></th>\n",
       "      <th>phone_name</th>\n",
       "      <th>brand</th>\n",
       "      <th>os</th>\n",
       "      <th>inches</th>\n",
       "      <th>resolution</th>\n",
       "      <th>battery</th>\n",
       "      <th>battery_type</th>\n",
       "      <th>ram(GB)</th>\n",
       "      <th>announcement_date</th>\n",
       "      <th>weight(g)</th>\n",
       "      <th>...</th>\n",
       "      <th>video_1080p</th>\n",
       "      <th>video_4K</th>\n",
       "      <th>video_8K</th>\n",
       "      <th>video_30fps</th>\n",
       "      <th>video_60fps</th>\n",
       "      <th>video_120fps</th>\n",
       "      <th>video_240fps</th>\n",
       "      <th>video_480fps</th>\n",
       "      <th>video_960fps</th>\n",
       "      <th>price(USD)</th>\n",
       "    </tr>\n",
       "  </thead>\n",
       "  <tbody>\n",
       "    <tr>\n",
       "      <th>0</th>\n",
       "      <td>Y6II Compact</td>\n",
       "      <td>Huawei</td>\n",
       "      <td>Android 5.1</td>\n",
       "      <td>5.0</td>\n",
       "      <td>720x1280</td>\n",
       "      <td>2200</td>\n",
       "      <td>Li-Po</td>\n",
       "      <td>2</td>\n",
       "      <td>2016-09-01</td>\n",
       "      <td>140.0</td>\n",
       "      <td>...</td>\n",
       "      <td>False</td>\n",
       "      <td>False</td>\n",
       "      <td>False</td>\n",
       "      <td>True</td>\n",
       "      <td>False</td>\n",
       "      <td>False</td>\n",
       "      <td>False</td>\n",
       "      <td>False</td>\n",
       "      <td>False</td>\n",
       "      <td>120.0</td>\n",
       "    </tr>\n",
       "  </tbody>\n",
       "</table>\n",
       "<p>1 rows × 22 columns</p>\n",
       "</div>"
      ],
      "text/plain": [
       "     phone_name   brand           os  inches resolution  battery battery_type  \\\n",
       "0  Y6II Compact  Huawei  Android 5.1     5.0   720x1280     2200        Li-Po   \n",
       "\n",
       "   ram(GB) announcement_date  weight(g)  ...  video_1080p  video_4K  video_8K  \\\n",
       "0        2        2016-09-01      140.0  ...        False     False     False   \n",
       "\n",
       "   video_30fps  video_60fps  video_120fps  video_240fps  video_480fps  \\\n",
       "0         True        False         False         False         False   \n",
       "\n",
       "   video_960fps  price(USD)  \n",
       "0         False       120.0  \n",
       "\n",
       "[1 rows x 22 columns]"
      ]
     },
     "execution_count": 48,
     "metadata": {},
     "output_type": "execute_result"
    }
   ],
   "source": [
    "data.loc[data['announcement_date']=='2016-09-01']"
   ]
  },
  {
   "cell_type": "code",
   "execution_count": null,
   "id": "394e70ae",
   "metadata": {},
   "outputs": [],
   "source": [
    "# Ans: y6ll Compact of Huawei brand is the oldest phone."
   ]
  },
  {
   "cell_type": "code",
   "execution_count": null,
   "id": "991a4f59",
   "metadata": {},
   "outputs": [],
   "source": []
  },
  {
   "cell_type": "code",
   "execution_count": null,
   "id": "0439cdfa",
   "metadata": {},
   "outputs": [],
   "source": [
    "#8.Which brand produced maximum number of phone in the given data?"
   ]
  },
  {
   "cell_type": "code",
   "execution_count": 49,
   "id": "06474d94",
   "metadata": {},
   "outputs": [
    {
     "data": {
      "text/plain": [
       "Xiaomi     264\n",
       "Oppo       213\n",
       "Samsung    206\n",
       "Vivo       168\n",
       "Realme     157\n",
       "Huawei     137\n",
       "Honor      124\n",
       "LG          75\n",
       "OnePlus     47\n",
       "Lenovo      43\n",
       "Sony        37\n",
       "Apple       22\n",
       "Google      19\n",
       "Name: brand, dtype: int64"
      ]
     },
     "execution_count": 49,
     "metadata": {},
     "output_type": "execute_result"
    }
   ],
   "source": [
    "data['brand'].value_counts()"
   ]
  },
  {
   "cell_type": "code",
   "execution_count": null,
   "id": "e5503218",
   "metadata": {},
   "outputs": [],
   "source": [
    "# Ans: Xiaomi produced maximum number of phones."
   ]
  },
  {
   "cell_type": "code",
   "execution_count": null,
   "id": "75e57625",
   "metadata": {},
   "outputs": [],
   "source": []
  },
  {
   "cell_type": "code",
   "execution_count": null,
   "id": "a44992cc",
   "metadata": {},
   "outputs": [],
   "source": [
    "# 9.Give the count of phones supporting?\n",
    "#  4k video, 8k video, 2k video"
   ]
  },
  {
   "cell_type": "code",
   "execution_count": 50,
   "id": "53378c21",
   "metadata": {},
   "outputs": [
    {
     "data": {
      "text/plain": [
       "801"
      ]
     },
     "execution_count": 50,
     "metadata": {},
     "output_type": "execute_result"
    }
   ],
   "source": [
    "len(data.loc[data['video_4K']==True].value_counts()) # no. of phones supporting 4k video"
   ]
  },
  {
   "cell_type": "code",
   "execution_count": 51,
   "id": "663eeb1a",
   "metadata": {},
   "outputs": [
    {
     "data": {
      "text/plain": [
       "86"
      ]
     },
     "execution_count": 51,
     "metadata": {},
     "output_type": "execute_result"
    }
   ],
   "source": [
    "len(data.loc[data['video_8K']==True].value_counts()) # no.of phones supporting 8k video"
   ]
  },
  {
   "cell_type": "code",
   "execution_count": 52,
   "id": "85dceb43",
   "metadata": {},
   "outputs": [
    {
     "data": {
      "text/plain": [
       "1503"
      ]
     },
     "execution_count": 52,
     "metadata": {},
     "output_type": "execute_result"
    }
   ],
   "source": [
    "len(dt.loc[data['video_1080p']==True].value_counts()) # no.of phones support 2k video"
   ]
  },
  {
   "cell_type": "code",
   "execution_count": 27,
   "id": "d852c2eb",
   "metadata": {},
   "outputs": [],
   "source": [
    "# Ans: 4k video : 801 phones support 4k video\n",
    "#      8k video : 86 phones support 8k video\n",
    "#      2k video : 1503 phones support 2k video"
   ]
  },
  {
   "cell_type": "code",
   "execution_count": null,
   "id": "84cd09a7",
   "metadata": {},
   "outputs": [],
   "source": []
  },
  {
   "cell_type": "code",
   "execution_count": null,
   "id": "42d696f6",
   "metadata": {},
   "outputs": [],
   "source": [
    "# 10. How many phones supports Li-Po and Li-ion Battery?"
   ]
  },
  {
   "cell_type": "code",
   "execution_count": 53,
   "id": "b760b05b",
   "metadata": {},
   "outputs": [
    {
     "data": {
      "text/plain": [
       "1242"
      ]
     },
     "execution_count": 53,
     "metadata": {},
     "output_type": "execute_result"
    }
   ],
   "source": [
    "len(data.loc[data['battery_type']== 'Li-Po']) # Li-Po battery phones"
   ]
  },
  {
   "cell_type": "code",
   "execution_count": 54,
   "id": "b793418c",
   "metadata": {},
   "outputs": [
    {
     "data": {
      "text/plain": [
       "270"
      ]
     },
     "execution_count": 54,
     "metadata": {},
     "output_type": "execute_result"
    }
   ],
   "source": [
    "len(data.loc[data['battery_type']=='Li-Ion']) # Li-Ion battery phones"
   ]
  },
  {
   "cell_type": "code",
   "execution_count": null,
   "id": "053053d0",
   "metadata": {},
   "outputs": [],
   "source": [
    "# Ans: 1242 phones support li-Po battery\n",
    "#      270 phones support Li-Ion battery"
   ]
  },
  {
   "cell_type": "code",
   "execution_count": null,
   "id": "b44c517c",
   "metadata": {},
   "outputs": [],
   "source": []
  },
  {
   "cell_type": "code",
   "execution_count": null,
   "id": "b1abed1e",
   "metadata": {},
   "outputs": [],
   "source": [
    "# 11. How many sony phones supports 720x1280 resolution?"
   ]
  },
  {
   "cell_type": "code",
   "execution_count": 55,
   "id": "0f2367e5",
   "metadata": {},
   "outputs": [],
   "source": [
    "x = data.loc[(data['brand']=='Sony')&(data['resolution']=='720x1280')]"
   ]
  },
  {
   "cell_type": "code",
   "execution_count": 56,
   "id": "c4393edd",
   "metadata": {},
   "outputs": [
    {
     "data": {
      "text/html": [
       "<div>\n",
       "<style scoped>\n",
       "    .dataframe tbody tr th:only-of-type {\n",
       "        vertical-align: middle;\n",
       "    }\n",
       "\n",
       "    .dataframe tbody tr th {\n",
       "        vertical-align: top;\n",
       "    }\n",
       "\n",
       "    .dataframe thead th {\n",
       "        text-align: right;\n",
       "    }\n",
       "</style>\n",
       "<table border=\"1\" class=\"dataframe\">\n",
       "  <thead>\n",
       "    <tr style=\"text-align: right;\">\n",
       "      <th></th>\n",
       "      <th>phone_name</th>\n",
       "      <th>brand</th>\n",
       "      <th>os</th>\n",
       "      <th>inches</th>\n",
       "      <th>resolution</th>\n",
       "      <th>battery</th>\n",
       "      <th>battery_type</th>\n",
       "      <th>ram(GB)</th>\n",
       "      <th>announcement_date</th>\n",
       "      <th>weight(g)</th>\n",
       "      <th>...</th>\n",
       "      <th>video_1080p</th>\n",
       "      <th>video_4K</th>\n",
       "      <th>video_8K</th>\n",
       "      <th>video_30fps</th>\n",
       "      <th>video_60fps</th>\n",
       "      <th>video_120fps</th>\n",
       "      <th>video_240fps</th>\n",
       "      <th>video_480fps</th>\n",
       "      <th>video_960fps</th>\n",
       "      <th>price(USD)</th>\n",
       "    </tr>\n",
       "  </thead>\n",
       "  <tbody>\n",
       "    <tr>\n",
       "      <th>5</th>\n",
       "      <td>Xperia XA1</td>\n",
       "      <td>Sony</td>\n",
       "      <td>Android 7.0</td>\n",
       "      <td>5.0</td>\n",
       "      <td>720x1280</td>\n",
       "      <td>2300</td>\n",
       "      <td>Li-Ion</td>\n",
       "      <td>3</td>\n",
       "      <td>2017-02-01</td>\n",
       "      <td>143.0</td>\n",
       "      <td>...</td>\n",
       "      <td>True</td>\n",
       "      <td>False</td>\n",
       "      <td>False</td>\n",
       "      <td>True</td>\n",
       "      <td>False</td>\n",
       "      <td>False</td>\n",
       "      <td>False</td>\n",
       "      <td>False</td>\n",
       "      <td>False</td>\n",
       "      <td>140.0</td>\n",
       "    </tr>\n",
       "    <tr>\n",
       "      <th>13</th>\n",
       "      <td>Xperia L1</td>\n",
       "      <td>Sony</td>\n",
       "      <td>Android 7.0</td>\n",
       "      <td>5.5</td>\n",
       "      <td>720x1280</td>\n",
       "      <td>2620</td>\n",
       "      <td>Li-Ion</td>\n",
       "      <td>2</td>\n",
       "      <td>2017-03-01</td>\n",
       "      <td>180.0</td>\n",
       "      <td>...</td>\n",
       "      <td>True</td>\n",
       "      <td>False</td>\n",
       "      <td>False</td>\n",
       "      <td>True</td>\n",
       "      <td>False</td>\n",
       "      <td>False</td>\n",
       "      <td>False</td>\n",
       "      <td>False</td>\n",
       "      <td>False</td>\n",
       "      <td>110.0</td>\n",
       "    </tr>\n",
       "    <tr>\n",
       "      <th>48</th>\n",
       "      <td>Xperia XZ1 Compact</td>\n",
       "      <td>Sony</td>\n",
       "      <td>Android 8.0</td>\n",
       "      <td>4.6</td>\n",
       "      <td>720x1280</td>\n",
       "      <td>2700</td>\n",
       "      <td>Li-Ion</td>\n",
       "      <td>4</td>\n",
       "      <td>2017-08-01</td>\n",
       "      <td>140.0</td>\n",
       "      <td>...</td>\n",
       "      <td>True</td>\n",
       "      <td>True</td>\n",
       "      <td>False</td>\n",
       "      <td>True</td>\n",
       "      <td>True</td>\n",
       "      <td>False</td>\n",
       "      <td>False</td>\n",
       "      <td>False</td>\n",
       "      <td>True</td>\n",
       "      <td>300.0</td>\n",
       "    </tr>\n",
       "    <tr>\n",
       "      <th>66</th>\n",
       "      <td>Xperia R1 (Plus)</td>\n",
       "      <td>Sony</td>\n",
       "      <td>Android 7.1</td>\n",
       "      <td>5.2</td>\n",
       "      <td>720x1280</td>\n",
       "      <td>2620</td>\n",
       "      <td>Li-Ion</td>\n",
       "      <td>3</td>\n",
       "      <td>2017-10-01</td>\n",
       "      <td>154.0</td>\n",
       "      <td>...</td>\n",
       "      <td>True</td>\n",
       "      <td>False</td>\n",
       "      <td>False</td>\n",
       "      <td>True</td>\n",
       "      <td>False</td>\n",
       "      <td>False</td>\n",
       "      <td>False</td>\n",
       "      <td>False</td>\n",
       "      <td>False</td>\n",
       "      <td>168.0</td>\n",
       "    </tr>\n",
       "    <tr>\n",
       "      <th>93</th>\n",
       "      <td>Xperia L2</td>\n",
       "      <td>Sony</td>\n",
       "      <td>Android 7.1.1</td>\n",
       "      <td>5.5</td>\n",
       "      <td>720x1280</td>\n",
       "      <td>3300</td>\n",
       "      <td>Li-Ion</td>\n",
       "      <td>3</td>\n",
       "      <td>2018-01-01</td>\n",
       "      <td>178.0</td>\n",
       "      <td>...</td>\n",
       "      <td>True</td>\n",
       "      <td>False</td>\n",
       "      <td>False</td>\n",
       "      <td>True</td>\n",
       "      <td>False</td>\n",
       "      <td>False</td>\n",
       "      <td>False</td>\n",
       "      <td>False</td>\n",
       "      <td>False</td>\n",
       "      <td>140.0</td>\n",
       "    </tr>\n",
       "  </tbody>\n",
       "</table>\n",
       "<p>5 rows × 22 columns</p>\n",
       "</div>"
      ],
      "text/plain": [
       "            phone_name brand             os  inches resolution  battery  \\\n",
       "5           Xperia XA1  Sony    Android 7.0     5.0   720x1280     2300   \n",
       "13           Xperia L1  Sony    Android 7.0     5.5   720x1280     2620   \n",
       "48  Xperia XZ1 Compact  Sony    Android 8.0     4.6   720x1280     2700   \n",
       "66    Xperia R1 (Plus)  Sony    Android 7.1     5.2   720x1280     2620   \n",
       "93           Xperia L2  Sony  Android 7.1.1     5.5   720x1280     3300   \n",
       "\n",
       "   battery_type  ram(GB) announcement_date  weight(g)  ...  video_1080p  \\\n",
       "5        Li-Ion        3        2017-02-01      143.0  ...         True   \n",
       "13       Li-Ion        2        2017-03-01      180.0  ...         True   \n",
       "48       Li-Ion        4        2017-08-01      140.0  ...         True   \n",
       "66       Li-Ion        3        2017-10-01      154.0  ...         True   \n",
       "93       Li-Ion        3        2018-01-01      178.0  ...         True   \n",
       "\n",
       "    video_4K  video_8K  video_30fps  video_60fps  video_120fps  video_240fps  \\\n",
       "5      False     False         True        False         False         False   \n",
       "13     False     False         True        False         False         False   \n",
       "48      True     False         True         True         False         False   \n",
       "66     False     False         True        False         False         False   \n",
       "93     False     False         True        False         False         False   \n",
       "\n",
       "    video_480fps  video_960fps  price(USD)  \n",
       "5          False         False       140.0  \n",
       "13         False         False       110.0  \n",
       "48         False          True       300.0  \n",
       "66         False         False       168.0  \n",
       "93         False         False       140.0  \n",
       "\n",
       "[5 rows x 22 columns]"
      ]
     },
     "execution_count": 56,
     "metadata": {},
     "output_type": "execute_result"
    }
   ],
   "source": [
    "x"
   ]
  },
  {
   "cell_type": "code",
   "execution_count": null,
   "id": "9afb9421",
   "metadata": {},
   "outputs": [],
   "source": [
    "# Ans 5 sony phone supports 720 x 1280 resolution"
   ]
  },
  {
   "cell_type": "code",
   "execution_count": null,
   "id": "a1a2a25d",
   "metadata": {},
   "outputs": [],
   "source": []
  }
 ],
 "metadata": {
  "kernelspec": {
   "display_name": "Python 3 (ipykernel)",
   "language": "python",
   "name": "python3"
  },
  "language_info": {
   "codemirror_mode": {
    "name": "ipython",
    "version": 3
   },
   "file_extension": ".py",
   "mimetype": "text/x-python",
   "name": "python",
   "nbconvert_exporter": "python",
   "pygments_lexer": "ipython3",
   "version": "3.11.3"
  }
 },
 "nbformat": 4,
 "nbformat_minor": 5
}
